{
 "cells": [
  {
   "cell_type": "code",
   "execution_count": 5,
   "metadata": {
    "collapsed": false
   },
   "outputs": [
    {
     "name": "stdout",
     "output_type": "stream",
     "text": [
      "Overwriting tests.yaml\n"
     ]
    }
   ],
   "source": [
    "%%file tests.yaml\n",
    "\n",
    "Definitions:\n",
    "    emu: {filename: formulation.lp}\n",
    "    inst: {filename: instance.lp}\n",
    "    both: {group: [emu, inst]}\n",
    "    \n",
    "Test Full Program On Instance:\n",
    "    Modules: both\n",
    "    Expect: SAT\n",
    "        \n",
    "Test PC Advance:\n",
    "    Modules: emu\n",
    "    inline: |\n",
    "        #const maxpc = 2.\n",
    "        #const maxtime = 2.\n",
    "        end(2).\n",
    "        advance :-\n",
    "            pcat(1, 1),\n",
    "            pcat(0, 0).\n",
    "        :- not advance.\n",
    "    Expect: SAT\n",
    "        \n",
    "Test Z Flag CMP:\n",
    "    Modules: emu\n",
    "    inline: |\n",
    "        #const maxtime = 2.\n",
    "        #const maxpc = 2\n",
    "        cmp_imm(1, eax, zero).\n",
    "        end(2).\n",
    "        :- not flg(2, z).\n",
    "    Expect: SAT\n",
    "        \n",
    "Test NZ Flag CMP:\n",
    "    Modules: emu\n",
    "    inline: |\n",
    "        #const maxtime = 2.\n",
    "        #const maxpc = 2\n",
    "        cmp_imm(1, eax, 0).\n",
    "        end(2).\n",
    "        :- flg(2, z).\n",
    "    Expect: SAT\n",
    "        \n",
    "Test S Flag CMP:\n",
    "    Modules: emu\n",
    "    inline: |\n",
    "        #const maxtime = 2.\n",
    "        #const maxpc = 2\n",
    "        cmp_imm(1, eax, 0).\n",
    "        end(2).\n",
    "        :- not flg(2, s).\n",
    "    Expect: SAT\n",
    "        \n",
    "Test NS Flag CMP:\n",
    "    Modules: emu\n",
    "    inline: |\n",
    "        #const maxtime = 2.\n",
    "        #const maxpc = 2\n",
    "        cmp_imm(1, eax, 0..intlen-1).\n",
    "        end(2).\n",
    "        :- flg(2, s).\n",
    "    Expect: SAT\n",
    "        \n",
    "Test C Flag CMP:\n",
    "    Modules: emu\n",
    "    inline: |\n",
    "        #const maxtime = 2.\n",
    "        #const maxpc = 2\n",
    "        cmp_imm(1, eax, 0).\n",
    "        end(2).\n",
    "        :- not flg(2, c).\n",
    "    Expect: SAT\n",
    "        \n",
    "Test NC Flag CMP:\n",
    "    Modules: emu\n",
    "    inline: |\n",
    "        #const maxtime = 2.\n",
    "        #const maxpc = 2\n",
    "        cmp_imm(1, eax, 0).\n",
    "        end(2).\n",
    "        :- flg(2, c).\n",
    "    Expect: SAT"
   ]
  },
  {
   "cell_type": "code",
   "execution_count": 6,
   "metadata": {
    "collapsed": false
   },
   "outputs": [
    {
     "name": "stderr",
     "output_type": "stream",
     "text": [
      "Test tests.yaml :: C Flag CMP ... ok\n",
      "Test tests.yaml :: Full Program On Instance ... ok\n",
      "Test tests.yaml :: NC Flag CMP ... ok\n",
      "Test tests.yaml :: NS Flag CMP ... ok\n",
      "Test tests.yaml :: NZ Flag CMP ... ok\n",
      "Test tests.yaml :: PC Advance ... ok\n",
      "Test tests.yaml :: S Flag CMP ... ok\n",
      "Test tests.yaml :: Z Flag CMP ... ok\n",
      "\n",
      "----------------------------------------------------------------------\n",
      "Ran 8 tests in 0.503s\n",
      "\n",
      "OK\n"
     ]
    }
   ],
   "source": [
    "!ansunit tests.yaml -vv"
   ]
  }
 ],
 "metadata": {
  "kernelspec": {
   "display_name": "Python 3",
   "language": "python",
   "name": "python3"
  },
  "language_info": {
   "codemirror_mode": {
    "name": "ipython",
    "version": 3
   },
   "file_extension": ".py",
   "mimetype": "text/x-python",
   "name": "python",
   "nbconvert_exporter": "python",
   "pygments_lexer": "ipython3",
   "version": "3.6.0"
  }
 },
 "nbformat": 4,
 "nbformat_minor": 2
}
