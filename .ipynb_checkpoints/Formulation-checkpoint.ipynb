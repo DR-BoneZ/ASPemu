{
 "cells": [
  {
   "cell_type": "code",
   "execution_count": 83,
   "metadata": {
    "collapsed": false
   },
   "outputs": [
    {
     "name": "stdout",
     "output_type": "stream",
     "text": [
      "Overwriting formulation.lp\n"
     ]
    }
   ],
   "source": [
    "%%file formulation.lp\n",
    "\n",
    "#const intlen = 32.\n",
    "\n",
    "register(eax;ebx;ecx;edx;esi;edi;edp;esp;eip;imm;cmp).\n",
    "flag(n;z;p).\n",
    "apitype_value(get_something).\n",
    "apitype_alloc(alloc_something).\n",
    "pos(0..intlen-1).\n",
    "time(0..maxtime).\n",
    "pc(0..maxpc).\n",
    "flg(0, z).\n",
    "    \n",
    ":- flg(T, F1), flg(T, F2), F1 != F2, flag(F1), flag(F2), time(T).\n",
    "\n",
    "%% Generalizations\n",
    "cmp(T) :- time(T), pcat(T, PC), cmp_imm(PC, _, _).\n",
    "imm(T) :- time(T), pcat(T, PC), cmp_imm(PC, _, _).\n",
    "    \n",
    "%% Registers maintain value unless acted upon\n",
    "regbit(T, Reg, Pos) :-\n",
    "    time(T),\n",
    "    register(Reg),\n",
    "    pos(Pos),\n",
    "    regbit(T-1, Reg, Pos),\n",
    "    pcat(T, PC),\n",
    "    not end(PC),\n",
    "    not sub(PC, _, _, Reg),\n",
    "    Reg != eip,\n",
    "    Reg != eax,\n",
    "    Reg != imm.\n",
    "regbit(T, imm, Pos) :-\n",
    "    time(T),\n",
    "    pos(Pos),\n",
    "    regbit(T-1, imm, Pos),\n",
    "    pcat(T, PC),\n",
    "    not end(PC),\n",
    "    not imm(T).\n",
    "regbit(T, eax, Pos) :-\n",
    "    time(T),\n",
    "    pos(Pos),\n",
    "    regbit(T-1, eax, Pos),\n",
    "    pcat(T, PC),\n",
    "    not end(PC),\n",
    "    not apicall(PC, _).\n",
    "    \n",
    "%% PC advances each time step\n",
    "regbit(T+1, eip, 0) :-\n",
    "    time(T),\n",
    "    not regbit(T, eip, 0).\n",
    "regbit(T+1, eip, Pos) :-\n",
    "    time(T),\n",
    "    pos(Pos),\n",
    "    Pos > 0,\n",
    "    regbit(T, eip, Pos),\n",
    "    regbit(T+1, eip, Pos-1).\n",
    "regbit(T+1, eip, Pos) :-\n",
    "    time(T),\n",
    "    pos(Pos),\n",
    "    Pos > 0,\n",
    "    regbit(T, eip, Pos),\n",
    "    not regbit(T, eip, Pos-1).\n",
    "regbit(T+1, eip, Pos) :-\n",
    "    time(T),\n",
    "    pos(Pos),\n",
    "    Pos > 0,\n",
    "    not regbit(T, eip, Pos),\n",
    "    not regbit(T+1, eip, Pos-1),\n",
    "    regbit(T, eip, Pos-1).\n",
    "    \n",
    "\n",
    "% Comparisons    \n",
    "\n",
    "%% Store value from cmp_imm in imm\n",
    "regbit(T, imm, Pos) :-\n",
    "    time(T),\n",
    "    pos(Pos),\n",
    "    pcat(T, PC),\n",
    "    cmp_imm(PC, _, Pos).\n",
    "\n",
    "%% Reg - imm -> cmp\n",
    "sub(PC, Reg, imm, cmp) :- cmp_imm(PC, Reg, _).\n",
    "\n",
    "%% Subtraction\n",
    "regbit(T, Res, Pos) :-\n",
    "    time(T),\n",
    "    register(Res),\n",
    "    pos(Pos),\n",
    "    pcat(T, PC),\n",
    "    sub(PC, Reg1, Reg2, Res),\n",
    "    register(Reg1),\n",
    "    register(Reg2),\n",
    "    regbit(T, Reg1, Pos),\n",
    "    not regbit(T, Reg2, Pos),\n",
    "    not carry(T, Pos).\n",
    "regbit(T, Res, Pos) :-\n",
    "    time(T),\n",
    "    register(Res),\n",
    "    pos(Pos),\n",
    "    pcat(T, PC),\n",
    "    sub(PC, Reg1, Reg2, Res),\n",
    "    register(Reg1),\n",
    "    register(Reg2),\n",
    "    not regbit(T, Reg1, Pos),\n",
    "    regbit(T, Reg2, Pos),\n",
    "    not carry(T, Pos).\n",
    "regbit(T, Res, Pos) :-\n",
    "    time(T),\n",
    "    register(Res),\n",
    "    pos(Pos),\n",
    "    pcat(T, PC),\n",
    "    sub(PC, Reg1, Reg2, Res),\n",
    "    register(Reg1),\n",
    "    register(Reg2),\n",
    "    regbit(T, Reg1, Pos),\n",
    "    regbit(T, Reg2, Pos),\n",
    "    carry(T, Pos).\n",
    "regbit(T, Res, Pos) :-\n",
    "    time(T),\n",
    "    register(Res),\n",
    "    pos(Pos),\n",
    "    pcat(T, PC),\n",
    "    sub(PC, Reg1, Reg2, Res),\n",
    "    register(Reg1),\n",
    "    register(Reg2),\n",
    "    not regbit(T, Reg1, Pos),\n",
    "    not regbit(T, Reg2, Pos),\n",
    "    carry(T, Pos).\n",
    "carry(T, Pos+1) :-\n",
    "    time(T),\n",
    "    pos(Pos),\n",
    "    pcat(T, PC),\n",
    "    sub(PC, Reg1, Reg2, Res),\n",
    "    register(Reg1),\n",
    "    register(Reg2),\n",
    "    not regbit(T, Reg1, Pos),\n",
    "    regbit(T, Reg2, Pos).\n",
    "carry(T, Pos+1) :-\n",
    "    time(T),\n",
    "    pos(Pos),\n",
    "    pcat(T, PC),\n",
    "    sub(PC, Reg1, Reg2, Res),\n",
    "    register(Reg1),\n",
    "    register(Reg2),\n",
    "    regbit(T, Reg1, Pos),\n",
    "    regbit(T, Reg2, Pos),\n",
    "    carry(T, Pos).\n",
    "carry(T, Pos+1) :-\n",
    "    time(T),\n",
    "    pos(Pos),\n",
    "    pcat(T, PC),\n",
    "    sub(PC, Reg1, Reg2, Res),\n",
    "    register(Reg1),\n",
    "    register(Reg2),\n",
    "    not regbit(T, Reg1, Pos),\n",
    "    not regbit(T, Reg2, Pos),\n",
    "    carry(T, Pos).\n",
    "    \n",
    "%% API Calls: single value\n",
    "0 { regbit(T, eax, Pos) } 1 :-\n",
    "    time(T),\n",
    "    pos(Pos),\n",
    "    pcat(T, PC),\n",
    "    apicall(PC, Call),\n",
    "    apitype_value(Call).\n",
    "    \n",
    "%% Flags\n",
    "flg(T, n) :- \n",
    "    cmp(T),\n",
    "    carry(T, intlen).\n",
    "flg(T, z) :-\n",
    "    cmp(T),\n",
    "    not regbit(T, cmp, _),\n",
    "    not carry(T, intlen).\n",
    "flg(T, p) :-\n",
    "    cmp(T),\n",
    "    regbit(T, cmp, _),\n",
    "    not carry(T, intlen)."
   ]
  },
  {
   "cell_type": "code",
   "execution_count": 84,
   "metadata": {
    "collapsed": false
   },
   "outputs": [
    {
     "name": "stdout",
     "output_type": "stream",
     "text": [
      "Overwriting instance-6.lp\n"
     ]
    }
   ],
   "source": [
    "%%file instance-6.lp\n",
    "\n",
    "#const maxtime = 6.\n",
    "#const maxpc = 5.\n",
    "\n",
    "apicall(1, get_something).\n",
    "cmp_imm(2, eax, 0).\n",
    "jge(3, 5).\n",
    "eicar(4).\n",
    "end(maxpc)."
   ]
  },
  {
   "cell_type": "code",
   "execution_count": 88,
   "metadata": {
    "collapsed": false
   },
   "outputs": [
    {
     "name": "stdout",
     "output_type": "stream",
     "text": [
      "Writing suppress-warnings.lp\n"
     ]
    }
   ],
   "source": [
    "%%file suppress-warnings.lp\n",
    "\n",
    "apicall(0, get_something) :- a=b.\n",
    "cmp_imm(0, eax, zero) :- a=b.\n",
    "jlt(0, 0) :- a=b.\n",
    "jle(0, 0) :- a=b.\n",
    "jeq(0, 0) :- a=b.\n",
    "jne(0, 0) :- a=b.\n",
    "jge(0, 0) :- a=b.\n",
    "jgt(0, 0) :- a=b.\n",
    "eicar(0) :- a=b."
   ]
  },
  {
   "cell_type": "code",
   "execution_count": 85,
   "metadata": {
    "collapsed": false
   },
   "outputs": [
    {
     "name": "stdout",
     "output_type": "stream",
     "text": [
      "Overwriting gen-pcat.py\n"
     ]
    }
   ],
   "source": [
    "%%file gen-pcat.py\n",
    "\n",
    "import sys\n",
    "\n",
    "bits = int(sys.argv[1])\n",
    "maxpc = int(sys.argv[2])\n",
    "\n",
    "with open('pcat' + str(bits) + '.lp', 'w') as f:\n",
    "    f.write('toolong(T) :-\\n')\n",
    "    f.write('    time(T),\\n')\n",
    "    f.write('    regbit(T, eip, Pos),\\n')\n",
    "    f.write('    pos(Pos),\\n')\n",
    "    f.write('    Pos >= ' + str(maxpc.bit_length()) + '.\\n\\n')\n",
    "    for i in range(0, maxpc + 1):\n",
    "        f.write('pcat(T, ' + str(i) + ') :-\\n')\n",
    "        f.write('    time(T),\\n')\n",
    "        f.write('    pc(PC),\\n')\n",
    "        for j in range(0, maxpc.bit_length()):\n",
    "            f.write('    ' + ('' if i&(1<<j) else 'not ') + 'regbit(T, eip, ' + str(j) + '),\\n')\n",
    "        f.write('    not toolong(T).\\n')"
   ]
  },
  {
   "cell_type": "code",
   "execution_count": 86,
   "metadata": {
    "collapsed": false
   },
   "outputs": [],
   "source": [
    "%run gen-pcat 32 5"
   ]
  },
  {
   "cell_type": "code",
   "execution_count": 90,
   "metadata": {
    "collapsed": false
   },
   "outputs": [
    {
     "name": "stdout",
     "output_type": "stream",
     "text": [
      "clingo version 5.1.0\n",
      "Reading from formulation.lp ...\n",
      "Solving...\n",
      "Answer: 1\n",
      "apicall(1,get_something) cmp_imm(2,eax,0) pos(0) pos(1) pos(2) pos(3) pos(4) pos(5) pos(6) pos(7) pos(8) pos(9) pos(10) pos(11) pos(12) pos(13) pos(14) pos(15) pos(16) pos(17) pos(18) pos(19) pos(20) pos(21) pos(22) pos(23) pos(24) pos(25) pos(26) pos(27) pos(28) pos(29) pos(30) pos(31) time(0) time(1) time(2) time(3) time(4) time(5) time(6) pc(0) pc(1) pc(2) pc(3) pc(4) pc(5) flag(n) flag(z) flag(p) flg(0,z) register(eax) register(ebx) register(ecx) register(edx) register(esi) register(edi) register(edp) register(esp) register(eip) register(imm) register(cmp) end(5) sub(2,eax,imm,cmp) apitype_value(get_something) apitype_alloc(alloc_something) pcat(0,0) regbit(1,eip,0) regbit(2,eip,1) regbit(3,eip,0) regbit(3,eip,1) regbit(4,eip,2) regbit(5,eip,0) regbit(5,eip,2) regbit(6,eip,1) regbit(6,eip,2) regbit(7,eip,0) regbit(7,eip,1) pcat(1,1) pcat(3,3) pcat(2,2) regbit(7,eip,2) regbit(3,imm,0) regbit(2,imm,0) imm(2) cmp(2) pcat(5,5) pcat(4,4) regbit(4,imm,0) regbit(2,eax,0) regbit(3,eax,0) regbit(4,eax,0) regbit(1,eax,0) flg(2,z)\n",
      "SATISFIABLE\n",
      "\n",
      "Models       : 1+\n",
      "Calls        : 1\n",
      "Time         : 0.047s (Solving: 0.00s 1st Model: 0.00s Unsat: 0.00s)\n",
      "CPU Time     : 0.063s\n"
     ]
    }
   ],
   "source": [
    "!clingo formulation.lp instance-6.lp pcat32.lp suppress-warnings.lp -c intlen=32 --time-limit=60"
   ]
  },
  {
   "cell_type": "code",
   "execution_count": null,
   "metadata": {
    "collapsed": true
   },
   "outputs": [],
   "source": []
  }
 ],
 "metadata": {
  "kernelspec": {
   "display_name": "Python 3",
   "language": "python",
   "name": "python3"
  },
  "language_info": {
   "codemirror_mode": {
    "name": "ipython",
    "version": 3
   },
   "file_extension": ".py",
   "mimetype": "text/x-python",
   "name": "python",
   "nbconvert_exporter": "python",
   "pygments_lexer": "ipython3",
   "version": "3.6.0"
  }
 },
 "nbformat": 4,
 "nbformat_minor": 2
}
