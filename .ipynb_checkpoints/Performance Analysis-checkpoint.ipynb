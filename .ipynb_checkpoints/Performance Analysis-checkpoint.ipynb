{
 "cells": [
  {
   "cell_type": "markdown",
   "metadata": {},
   "source": [
    "# Performance Analysis\n",
    "\n",
    "## A Simple Formulation:"
   ]
  },
  {
   "cell_type": "code",
   "execution_count": 1,
   "metadata": {
    "collapsed": false
   },
   "outputs": [
    {
     "name": "stdout",
     "output_type": "stream",
     "text": [
      "Overwriting instance-1.ins\n"
     ]
    }
   ],
   "source": [
    "%%file instance-1.ins\n",
    ".code\n",
    "0x01 APICALL GetSomething\n",
    "0x02 CMP EAX 0xDEADBEEF\n",
    "0x03 JNZ 0x5\n",
    "0x04 EICAR\n",
    "0x05 APICALL Exit"
   ]
  },
  {
   "cell_type": "code",
   "execution_count": 2,
   "metadata": {
    "collapsed": false
   },
   "outputs": [
    {
     "name": "stdout",
     "output_type": "stream",
     "text": [
      "Signature EICAR encountered at time 0x04 at PC 0x04\n",
      "\n",
      "Time\tPC  \tValue     \n",
      "0x01\t0x01\t0xDEADBEEF\n",
      "\n",
      "Total Time: 0.109s\tGrounding: 0.109s\tSolving: 0.000s\n"
     ]
    }
   ],
   "source": [
    "!bash aspemu instance-1.ins"
   ]
  },
  {
   "cell_type": "markdown",
   "metadata": {},
   "source": [
    "All time is in grounding."
   ]
  },
  {
   "cell_type": "markdown",
   "metadata": {},
   "source": [
    "## More Complex Formulations"
   ]
  },
  {
   "cell_type": "code",
   "execution_count": 3,
   "metadata": {
    "collapsed": false
   },
   "outputs": [
    {
     "name": "stdout",
     "output_type": "stream",
     "text": [
      "Overwriting instance-2.ins\n"
     ]
    }
   ],
   "source": [
    "%%file instance-2.ins\n",
    ".code\n",
    "0x01 APICALL GetSomething\n",
    "0x02 CMP EAX 0xDEADBEEF\n",
    "0x03 JNZ 0x8\n",
    "0x04 APICALL GetSomething\n",
    "0x05 CMP EAX 0xDEADBEEF\n",
    "0x06 JNZ 0x8\n",
    "0x07 EICAR\n",
    "0x08 APICALL Exit"
   ]
  },
  {
   "cell_type": "code",
   "execution_count": 4,
   "metadata": {
    "collapsed": false
   },
   "outputs": [
    {
     "name": "stdout",
     "output_type": "stream",
     "text": [
      "Signature EICAR encountered at time 0x07 at PC 0x07\n",
      "\n",
      "Time\tPC  \tValue     \n",
      "0x01\t0x01\t0xDEADBEEF\n",
      "0x04\t0x04\t0xDEADBEEF\n",
      "\n",
      "Total Time: 0.203s\tGrounding: 0.200s\tSolving: 0.003s\n"
     ]
    }
   ],
   "source": [
    "!bash aspemu instance-2.ins"
   ]
  },
  {
   "cell_type": "code",
   "execution_count": 5,
   "metadata": {
    "collapsed": false
   },
   "outputs": [
    {
     "name": "stdout",
     "output_type": "stream",
     "text": [
      "1: Total Time: 0.141s\tGrounding: 0.140s\tSolving: 0.001s\n",
      "2: Total Time: 0.297s\tGrounding: 0.292s\tSolving: 0.005s\n",
      "4: Total Time: 0.750s\tGrounding: 0.616s\tSolving: 0.134s\n",
      "8: Total Time: 1.813s\tGrounding: 1.688s\tSolving: 0.125s\n",
      "16: Total Time: 6.203s\tGrounding: 5.501s\tSolving: 0.702s\n",
      "32: Total Time: 58.703s\tGrounding: 19.543s\tSolving: 39.160s\n"
     ]
    }
   ],
   "source": [
    "import subprocess\n",
    "\n",
    "for i in range(6):\n",
    "    with open('perftest.ins', 'w') as f:\n",
    "        PC = 1\n",
    "        f.write(\".code\\n\")\n",
    "        for j in range(1<<i):\n",
    "            f.write(\"0x{:02X} APICALL GetSomething\\n\".format(PC))\n",
    "            f.write(\"0x{:02X} CMP EAX 0xDEADBEEF\\n\".format(PC+1))\n",
    "            f.write(\"0x{:02X} JNZ 0x{:X}\\n\".format(PC+2, (3 * (1<<i)) + 3))\n",
    "            PC = PC + 3\n",
    "        f.write(\"0x{:02X} EICAR\\n\".format(PC))\n",
    "        f.write(\"0x{:02X} APICALL Exit\\n\".format((3 * (1<<i)) + 3))\n",
    "    print(str(1<<i) + \": \", end='')\n",
    "    print(str(subprocess.check_output(\"bash aspemu perftest.ins | grep Total\", shell=True))[2:-3].replace('\\\\t', '\\t'))"
   ]
  },
  {
   "cell_type": "code",
   "execution_count": 6,
   "metadata": {
    "collapsed": false
   },
   "outputs": [
    {
     "data": {
      "image/png": "[encoded data removed]",
      "text/plain": [
       "<IPython.core.display.Image object>"
      ]
     },
     "execution_count": 6,
     "metadata": {},
     "output_type": "execute_result"
    }
   ],
   "source": [
    "from IPython.display import Image\n",
    "Image(\"performance.png\")"
   ]
  },
  {
   "cell_type": "markdown",
   "metadata": {},
   "source": [
    "Time scales exponentially with number of API calls, however the constant is small, so it is still reasonable to run."
   ]
  }
 ],
 "metadata": {
  "kernelspec": {
   "display_name": "Python 3",
   "language": "python",
   "name": "python3"
  },
  "language_info": {
   "codemirror_mode": {
    "name": "ipython",
    "version": 3
   },
   "file_extension": ".py",
   "mimetype": "text/x-python",
   "name": "python",
   "nbconvert_exporter": "python",
   "pygments_lexer": "ipython3",
   "version": "3.6.0"
  }
 },
 "nbformat": 4,
 "nbformat_minor": 2
}
