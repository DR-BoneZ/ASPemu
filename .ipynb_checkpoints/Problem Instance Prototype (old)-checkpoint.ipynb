{
 "cells": [
  {
   "cell_type": "markdown",
   "metadata": {},
   "source": [
    "# ASP Emulator\n",
    "## Problem Instance"
   ]
  },
  {
   "cell_type": "code",
   "execution_count": 4,
   "metadata": {
    "collapsed": false
   },
   "outputs": [
    {
     "name": "stdout",
     "output_type": "stream",
     "text": [
      "Overwriting instance-1.lp\n"
     ]
    }
   ],
   "source": [
    "%%file instance-1.lp\n",
    "\n",
    "apicall(1, get_clipboard_data).\n",
    "add_imm(2, eax, eax, 4). %Let's say there is some useful value at offset 4 of the clipboard object\n",
    "mov_dir(3, edx, eax).\n",
    "cmp(4, edx, 0).\n",
    "jne(5, 7).\n",
    "eicar(6).\n",
    "end(7)."
   ]
  },
  {
   "cell_type": "markdown",
   "metadata": {},
   "source": [
    "## Solution"
   ]
  },
  {
   "cell_type": "code",
   "execution_count": 5,
   "metadata": {
    "collapsed": false
   },
   "outputs": [
    {
     "name": "stdout",
     "output_type": "stream",
     "text": [
      "Overwriting solution-1.lp\n"
     ]
    }
   ],
   "source": [
    "%%file solution-1.lp\n",
    "\n",
    "apicall_pt_res(1, 200).\n",
    "apicall_alloc(1, 200, 40). %Let's say a clipboard object has a max expected size of 40.\n",
    "mov_dir_res(3, edx, 205, 0).\n",
    "malware_sig_eicar(6)."
   ]
  },
  {
   "cell_type": "markdown",
   "metadata": {},
   "source": [
    "## Sample Formulation"
   ]
  },
  {
   "cell_type": "code",
   "execution_count": 6,
   "metadata": {
    "collapsed": false
   },
   "outputs": [
    {
     "name": "stdout",
     "output_type": "stream",
     "text": [
      "Overwriting formulation.lp\n"
     ]
    }
   ],
   "source": [
    "%%file formulation.lp\n",
    "\n",
    "register(eax;ebx;ecx;edx;esi;edi;edp;esp;eip).\n",
    "apicall_alloc(0, 0, 200)\n",
    "\n",
    ":- reg(T, Reg, Val1), reg(T, Reg, Val2), Val1 < Val2, register(Reg).\n",
    "    \n",
    "reg(T, eip, PC) :-\n",
    "    reg(T-1, eip, PC-1),\n",
    "    not jmp(PC-1, _),\n",
    "    not je(PC-1, _),\n",
    "    not jne(PC-1, _),\n",
    "    not jg(PC-1, _),\n",
    "    not jge(PC-1, _),\n",
    "    not jl(PC-1, _),\n",
    "    not jle(PC-1, _).\n",
    "    \n",
    "apicall_res(T, Addr) :-\n",
    "    reg(T, eip, PC),\n",
    "    apicall(PC, get_clipboad_data),\n",
    "    apicall_alloc(T2, Base, Size),\n",
    "    T2 < T,\n",
    "    Addr = Base + Size,\n",
    "    not apicall_alloc(T3, Addr),\n",
    "    T3 < T.\n",
    "    \n",
    "apicall_alloc(T, Base, 40) :-\n",
    "    apicall_res(T, Base),\n",
    "    reg(T, eip, PC),\n",
    "    apicall(PC, get_clipboad_data).\n",
    "    \n",
    "reg(T, eax, Val) :-\n",
    "    apicall_res(T, Val),\n",
    "    reg(T, eip, PC),\n",
    "    apicall(PC, _).\n",
    "    \n",
    "mov_dir_res(T, Reg, Addr, Val) :-\n",
    "    reg(T, eip, PC),\n",
    "    mov_dir(PC, Reg, AddrReg),\n",
    "    reg(T, AddrReg, Addr),\n",
    "    apicall_alloc(T2, Base, Size),\n",
    "    T2 < T,\n",
    "    Addr = Base..Base+Size-1,\n",
    "    Val =  −2147483648..2147483647.\n",
    "    \n",
    "reg(T, Reg, Val) :-\n",
    "    mov_dir_res(T, Reg, _, Val).\n",
    "    \n",
    "malware_sig_eicar(T) :-\n",
    "    reg(T, eip, PC),\n",
    "    eicar(PC).\n",
    "    \n",
    "malware_sig :- malware_sig_eicar(_).\n",
    "    \n",
    ":- not malware_sig"
   ]
  }
 ],
 "metadata": {
  "kernelspec": {
   "display_name": "Python 3",
   "language": "python",
   "name": "python3"
  },
  "language_info": {
   "codemirror_mode": {
    "name": "ipython",
    "version": 3
   },
   "file_extension": ".py",
   "mimetype": "text/x-python",
   "name": "python",
   "nbconvert_exporter": "python",
   "pygments_lexer": "ipython3",
   "version": "3.6.0"
  }
 },
 "nbformat": 4,
 "nbformat_minor": 2
}
