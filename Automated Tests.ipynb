{
 "cells": [
  {
   "cell_type": "code",
   "execution_count": 11,
   "metadata": {
    "collapsed": false
   },
   "outputs": [
    {
     "name": "stdout",
     "output_type": "stream",
     "text": [
      "Overwriting tests.yaml\n"
     ]
    }
   ],
   "source": [
    "%%file tests.yaml\n",
    "\n",
    "Definitions:\n",
    "    emu: {filename: formulation.lp}\n",
    "    inst: {filename: instance-2.lp}\n",
    "    both: {group: [emu, inst]}\n",
    "    \n",
    "Test full program on instance:\n",
    "    Modules: both\n",
    "    Expect: SAT\n",
    "        \n",
    "Test PC:\n",
    "    Modules: both\n",
    "    inline: |\n",
    "        advance :-\n",
    "            regval(1, eip, 1),\n",
    "            regval(0, eip, 0).\n",
    "        :- not advance.\n",
    "    Expect: SAT\n",
    "        \n",
    "Test cmp:\n",
    "    Modules: emu\n",
    "    inline: |\n",
    "        #maxtime = 3.\n",
    "        cmp_imm(1, eax, 0..intlen-1, 0).\n",
    "        end(2).\n",
    "        :- flg(1, n, 1).\n",
    "        :- flg(2, z, 0).\n",
    "        :- flg(2, p, 1).\n",
    "    Expect: SAT"
   ]
  },
  {
   "cell_type": "code",
   "execution_count": 14,
   "metadata": {
    "collapsed": false
   },
   "outputs": [
    {
     "name": "stderr",
     "output_type": "stream",
     "text": [
      "----------------------------------------------------------------------\n",
      "Ran 3 tests in 0.122s\n",
      "\n",
      "OK\n"
     ]
    }
   ],
   "source": [
    "!ansunit tests.yaml"
   ]
  }
 ],
 "metadata": {
  "kernelspec": {
   "display_name": "Python 3",
   "language": "python",
   "name": "python3"
  },
  "language_info": {
   "codemirror_mode": {
    "name": "ipython",
    "version": 3
   },
   "file_extension": ".py",
   "mimetype": "text/x-python",
   "name": "python",
   "nbconvert_exporter": "python",
   "pygments_lexer": "ipython3",
   "version": "3.6.0"
  }
 },
 "nbformat": 4,
 "nbformat_minor": 2
}
