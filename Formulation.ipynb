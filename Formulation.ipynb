{
 "cells": [
  {
   "cell_type": "markdown",
   "metadata": {},
   "source": [
    "# Formulation Notebook\n",
    "\n",
    "## A Sample Problem Instance\n",
    "Problem instances take the form of an x86 PE for Windows. Since converting these files is non-trivial, I have created a pseudo-assembly language format for describing problem instances."
   ]
  },
  {
   "cell_type": "code",
   "execution_count": 1,
   "metadata": {
    "collapsed": false
   },
   "outputs": [
    {
     "name": "stdout",
     "output_type": "stream",
     "text": [
      "Overwriting instance-6.ins\n"
     ]
    }
   ],
   "source": [
    "%%file instance-6.ins\n",
    ".code\n",
    "0x01 APICALL GetSomething\n",
    "0x02 MOV EAX EBX\n",
    "0x03 APICALL GetSomething\n",
    "0x04 ADD EAX EBX EAX\n",
    "0x05 CMP EAX 0x419095\n",
    "0x06 JL 0xB\n",
    "0x07 NOP\n",
    "0x08 CMP EBX 0x88\n",
    "0x09 JGE 0x01\n",
    "0x0A EICAR\n",
    "0x0B APICALL Exit\n",
    ".data"
   ]
  },
  {
   "cell_type": "markdown",
   "metadata": {},
   "source": [
    "This program will only execute the eicar instruction under a few conditions: the sum of the results of the first and second API calls should be at least 0x419095, and the result of the first API call should be less than 0x88. If out formulation is successful, we should recieve results from these apicalls that reflect these conditions.\n",
    "\n",
    "## Converting the problem instance to facts\n",
    "In order to be able to read in the problem instance, it must be converted to a list of facts that can be read by clingo. To do so, I use a python program."
   ]
  },
  {
   "cell_type": "code",
   "execution_count": 2,
   "metadata": {
    "collapsed": false
   },
   "outputs": [
    {
     "name": "stdout",
     "output_type": "stream",
     "text": [
      "Overwriting geninstance.py\n"
     ]
    }
   ],
   "source": [
    "%%file geninstance.py\n",
    "\n",
    "import re\n",
    "\n",
    "def convert_case(name):\n",
    "    s1 = re.sub('(.)([A-Z][a-z]+)', r'\\1_\\2', name)\n",
    "    return re.sub('([a-z0-9])([A-Z])', r'\\1_\\2', s1).lower()\n",
    "\n",
    "def geninstance(filename, timesteps):\n",
    "    with open(filename) as f:\n",
    "        with open(\"instance.lp\", 'w') as g:\n",
    "            section = \"none\"\n",
    "            maxpc = 0\n",
    "            maxtime = timesteps\n",
    "            for line in f:\n",
    "                line = line.strip()\n",
    "                if line == \".code\":\n",
    "                    section = \"code\"\n",
    "                    continue\n",
    "                elif line == \".data\":\n",
    "                    section = \"data\"\n",
    "                    continue\n",
    "                elif section == \"code\":\n",
    "                    ins = line.split(\" \")\n",
    "                    if ins[1] == \"APICALL\":\n",
    "                        if ins[2].lower() == \"exit\":\n",
    "                            g.write(\"end({:d}).\\n\".format(int(ins[0], 0)))\n",
    "                        else:\n",
    "                            g.write(\"apicall({:d}, {:s}).\\n\".format(int(ins[0], 0), convert_case(ins[2])))\n",
    "                    elif ins[1] == \"MOV\":\n",
    "                        try:\n",
    "                            imm = int(ins[2], 0)\n",
    "                            if imm == 0:\n",
    "                                g.write(\"mov_imm({:d}, {:s}, zero).\\n\".format(int(ins[0], 0), ins[3].lower()))\n",
    "                            else:\n",
    "                                for i in range(0, imm.bit_length()):\n",
    "                                    if imm & (1<<i) != 0:\n",
    "                                        g.write(\"mov_imm({:d}, {:s}, {:d}).\\n\".format(int(ins[0], 0), ins[3].lower(), i))\n",
    "                        except ValueError:\n",
    "                            g.write(\"mov({:d}, {:s}, {:s}).\\n\".format(int(ins[0], 0), ins[2].lower(), ins[3].lower()))\n",
    "                    elif ins[1] == \"CMP\":\n",
    "                        try:\n",
    "                            imm = int(ins[3], 0)\n",
    "                            if imm == 0:\n",
    "                                g.write(\"cmp_imm({:d}, {:s}, zero).\\n\".format(int(ins[0], 0), ins[2].lower()))\n",
    "                            else:\n",
    "                                for i in range(0, imm.bit_length()):\n",
    "                                    if imm & (1<<i) != 0:\n",
    "                                        g.write(\"cmp_imm({:d}, {:s}, {:d}).\\n\".format(int(ins[0], 0), ins[2].lower(), i))\n",
    "                        except ValueError:\n",
    "                            g.write(\"cmp({:d}, {:s}, {:s}, cmp).\\n\".format(int(ins[0], 0), ins[2].lower(), ins[3].lower()))\n",
    "                    elif ins[1] == \"ADD\" or ins[1] == \"SUB\":\n",
    "                        try:\n",
    "                            imm = int(ins[3], 0)\n",
    "                            if imm == 0:\n",
    "                                g.write(\"{:s}_imm({:d}, {:s}, zero, {:s}).\\n\".format(ins[1].lower(), int(ins[0], 0), ins[2].lower(), ins[4].lower()))\n",
    "                            else:\n",
    "                                for i in range(0, imm.bit_length()):\n",
    "                                    if imm & (1<<i) != 0:\n",
    "                                        g.write(\"{:s}_imm({:d}, {:s}, {:d}, {:s}).\\n\".format(ins[1].lower(), int(ins[0], 0), ins[2].lower(), i, ins[4].lower()))\n",
    "                        except ValueError:\n",
    "                            g.write(\"{:s}({:d}, {:s}, {:s}, {:s}).\\n\".format(ins[1].lower(), int(ins[0], 0), ins[2].lower(), ins[3].lower(), ins[4].lower()))\n",
    "                    elif ins[1][0] == 'J':\n",
    "                        try:\n",
    "                            imm = int(ins[2], 0)\n",
    "                            if imm == 0:\n",
    "                                g.write(\"{:s}_abs({:d}, zero).\\n\".format(ins[1].lower(), int(ins[0], 0)))\n",
    "                            else:\n",
    "                                for i in range(0, imm.bit_length()):\n",
    "                                    if imm & (1<<i) != 0:\n",
    "                                        g.write(\"{:s}_abs({:d}, {:d}).\\n\".format(ins[1].lower(), int(ins[0], 0), i))\n",
    "                        except ValueError:\n",
    "                            g.write(\"{:s}_reg({:d}, {:s}).\\n\".format(ins[1].lower(), int(ins[0], 0), ins[2].lower()))\n",
    "                    elif ins[1] == 'STO':\n",
    "                        try:\n",
    "                            imm = int(ins[3], 0)\n",
    "                            if imm == 0:\n",
    "                                g.write(\"sto_imm({:d}, {:s}, zero).\\n\".format(int(ins[0], 0), ins[2].lower()))\n",
    "                            else:\n",
    "                                for i in range(0, imm.bit_length()):\n",
    "                                    if imm & (1<<i) != 0:\n",
    "                                        g.write(\"sto_imm({:d}, {:s}, {:d}).\\n\".format(int(ins[0], 0), ins[2].lower(), i))\n",
    "                        except ValueError:\n",
    "                            g.write(\"sto({:d}, {:s}, {:s}).\\n\".format(int(ins[0], 0), ins[2].lower(), ins[3].lower()))\n",
    "                    elif ins[1] == 'EICAR':\n",
    "                        g.write(\"{:s}({:d}).\\n\".format(ins[1].lower(), int(ins[0], 0)))\n",
    "                    maxpc = max(maxpc, int(ins[0], 0))\n",
    "            if timesteps == 0:\n",
    "                maxtime = 2*maxpc\n",
    "            g.write(\"\\n#const maxpc = {:d}.\\n#const maxtime = {:d}.\\n\".format(maxpc, maxtime))\n",
    "            return maxpc"
   ]
  },
  {
   "cell_type": "markdown",
   "metadata": {},
   "source": [
    "## Computing PC\n",
    "In order to understand these numeric PC values, an lp file must also be generated to convert the bitwise representation of the EIP to these numbers."
   ]
  },
  {
   "cell_type": "code",
   "execution_count": 3,
   "metadata": {
    "collapsed": false
   },
   "outputs": [
    {
     "name": "stdout",
     "output_type": "stream",
     "text": [
      "Overwriting genpcat.py\n"
     ]
    }
   ],
   "source": [
    "%%file genpcat.py\n",
    "\n",
    "def genpcat(bits, maxpc):\n",
    "    with open('pcat' + str(bits) + '.lp', 'w') as f:\n",
    "        f.write('toolong(T, Reg) :-\\n')\n",
    "        f.write('    time(T),\\n')\n",
    "        f.write('    register(Reg),\\n')\n",
    "        f.write('    regbit(T, Reg, Pos),\\n')\n",
    "        f.write('    pos(Pos),\\n')\n",
    "        f.write('    Pos >= ' + str(maxpc.bit_length()) + '.\\n\\n')\n",
    "        for i in range(0, maxpc + 1):\n",
    "            f.write('pcat(T, ' + str(i) + ') :-\\n')\n",
    "            f.write('    time(T),\\n')\n",
    "            f.write('    pc(PC),\\n')\n",
    "            for j in range(0, maxpc.bit_length()):\n",
    "                f.write('    ' + ('' if i&(1<<j) else 'not ') + 'regbit(T, eip, ' + str(j) + '),\\n')\n",
    "            f.write('    not toolong(T, eip).\\n')"
   ]
  },
  {
   "cell_type": "markdown",
   "metadata": {},
   "source": [
    "Putting these two programs together, we can generate the necessary files to reason about a problem instance."
   ]
  },
  {
   "cell_type": "code",
   "execution_count": 4,
   "metadata": {
    "collapsed": false
   },
   "outputs": [
    {
     "name": "stdout",
     "output_type": "stream",
     "text": [
      "Overwriting prep-instance.py\n"
     ]
    }
   ],
   "source": [
    "%%file prep-instance.py\n",
    "\n",
    "import sys, geninstance, genpcat\n",
    "\n",
    "maxpc = geninstance.geninstance(sys.argv[1], int(sys.argv[2]) if len(sys.argv) > 2 and sys.argv[2] != '' else 0)\n",
    "genpcat.genpcat(32, maxpc)"
   ]
  },
  {
   "cell_type": "code",
   "execution_count": 5,
   "metadata": {
    "collapsed": true
   },
   "outputs": [],
   "source": [
    "%run prep-instance.py instance-6.ins"
   ]
  },
  {
   "cell_type": "code",
   "execution_count": 6,
   "metadata": {
    "collapsed": false
   },
   "outputs": [
    {
     "name": "stdout",
     "output_type": "stream",
     "text": [
      "apicall(1, get_something).\n",
      "mov(2, eax, ebx).\n",
      "apicall(3, get_something).\n",
      "add(4, eax, ebx, eax).\n",
      "cmp_imm(5, eax, 0).\n",
      "cmp_imm(5, eax, 2).\n",
      "cmp_imm(5, eax, 4).\n",
      "cmp_imm(5, eax, 7).\n",
      "cmp_imm(5, eax, 12).\n",
      "cmp_imm(5, eax, 15).\n",
      "cmp_imm(5, eax, 16).\n",
      "cmp_imm(5, eax, 22).\n",
      "jl_abs(6, 0).\n",
      "jl_abs(6, 1).\n",
      "jl_abs(6, 3).\n",
      "cmp_imm(8, ebx, 3).\n",
      "cmp_imm(8, ebx, 7).\n",
      "jge_abs(9, 0).\n",
      "eicar(10).\n",
      "end(11).\n",
      "\n",
      "#const maxpc = 11.\n",
      "#const maxtime = 22.\n"
     ]
    }
   ],
   "source": [
    "!cat instance.lp"
   ]
  },
  {
   "cell_type": "code",
   "execution_count": 7,
   "metadata": {
    "collapsed": false
   },
   "outputs": [
    {
     "name": "stdout",
     "output_type": "stream",
     "text": [
      "toolong(T, Reg) :-\n",
      "    time(T),\n",
      "    register(Reg),\n",
      "    regbit(T, Reg, Pos),\n",
      "    pos(Pos),\n",
      "    Pos >= 4.\n",
      "\n",
      "pcat(T, 0) :-\n",
      "    time(T),\n",
      "    pc(PC),\n"
     ]
    }
   ],
   "source": [
    "!head pcat32.lp"
   ]
  },
  {
   "cell_type": "markdown",
   "metadata": {},
   "source": [
    "## Main Formulation\n",
    "Now, the x86 processor and instruction set must be modeled. The lp file below describes a sufficient subset of the x86 processor and instruction set for the above instance."
   ]
  },
  {
   "cell_type": "code",
   "execution_count": 8,
   "metadata": {
    "collapsed": false
   },
   "outputs": [
    {
     "name": "stdout",
     "output_type": "stream",
     "text": [
      "Overwriting formulation.lp\n"
     ]
    }
   ],
   "source": [
    "%%file formulation.lp\n",
    "\n",
    "#const intlen = 32.\n",
    "\n",
    "register(eax;ebx;ecx;edx;esi;edi;edp;esp;eip;imm;cmp).\n",
    "flag(c;z;s;o).\n",
    "apitype_value(get_something).\n",
    "apitype_alloc(alloc_something).\n",
    "pos(0..intlen-1).\n",
    "time(0..maxtime).\n",
    "pc(0..maxpc).\n",
    "\n",
    "%% Generalizations\n",
    "mathop(T, cmp) :- time(T), pcat(T, PC), cmp_imm(PC, _, _).\n",
    "mathop(T, Reg) :- time(T), pcat(T, PC), add(PC, _, _, Reg).\n",
    "mathop(T, Reg) :- time(T), pcat(T, PC), sub(PC, _, _, Reg).\n",
    "imm(T) :- time(T), pcat(T, PC), cmp_imm(PC, _, _).\n",
    "    \n",
    "%% Jump detection\n",
    "jump_abs(T, Pos) :- time(T), pos(Pos), pcat(T, PC), jmp_abs(PC, Pos).\n",
    "jump_abs(T, Pos) :- time(T), pos(Pos), pcat(T, PC), jo_abs(PC, Pos), flg(T, o).\n",
    "jump_abs(T, Pos) :- time(T), pos(Pos), pcat(T, PC), jno_abs(PC, Pos), not flg(T, o).\n",
    "jump_abs(T, Pos) :- time(T), pos(Pos), pcat(T, PC), js_abs(PC, Pos), flg(T, s).\n",
    "jump_abs(T, Pos) :- time(T), pos(Pos), pcat(T, PC), jns_abs(PC, Pos), not flg(T, s).\n",
    "jump_abs(T, Pos) :- time(T), pos(Pos), pcat(T, PC), jz_abs(PC, Pos), flg(T, z).\n",
    "jump_abs(T, Pos) :- time(T), pos(Pos), pcat(T, PC), jnz_abs(PC, Pos), not flg(T, z).\n",
    "jump_abs(T, Pos) :- time(T), pos(Pos), pcat(T, PC), jc_abs(PC, Pos), flg(T, c).\n",
    "jump_abs(T, Pos) :- time(T), pos(Pos), pcat(T, PC), jnc_abs(PC, Pos), not flg(T, c).\n",
    "jump_abs(T, Pos) :- time(T), pos(Pos), pcat(T, PC), jl_abs(PC, Pos), flg(T, s), not flg(T, o).\n",
    "jump_abs(T, Pos) :- time(T), pos(Pos), pcat(T, PC), jl_abs(PC, Pos), not flg(T, s), flg(T, o).\n",
    "jump_abs(T, Pos) :- time(T), pos(Pos), pcat(T, PC), jge_abs(PC, Pos), flg(T, s), flg(T, o).\n",
    "jump_abs(T, Pos) :- time(T), pos(Pos), pcat(T, PC), jge_abs(PC, Pos), not flg(T, s), not flg(T, o).\n",
    "jump_abs(T, Pos) :- time(T), pos(Pos), pcat(T, PC), jle_abs(PC, Pos), flg(T, s), not flg(T, o).\n",
    "jump_abs(T, Pos) :- time(T), pos(Pos), pcat(T, PC), jle_abs(PC, Pos), not flg(T, s), flg(T, o).\n",
    "jump_abs(T, Pos) :- time(T), pos(Pos), pcat(T, PC), jle_abs(PC, Pos), flg(T, z).\n",
    "jump_abs(T, Pos) :- time(T), pos(Pos), pcat(T, PC), jle_abs(PC, Pos), not flg(T, s), not flg(T, o), not flg(T, z).\n",
    "jump_abs(T, Pos) :- time(T), pos(Pos), pcat(T, PC), jle_abs(PC, Pos), flg(T, s), flg(T, o), not flg(T, z).\n",
    "%jump(T) :- time(T), pcat(T, PC), jmp_rel(PC, _).\n",
    "%jump(T) :- time(T), pcat(T, PC), jo_rel(PC, _).\n",
    "%jump(T) :- time(T), pcat(T, PC), jno_rel(PC, _).\n",
    "%jump(T) :- time(T), pcat(T, PC), js_rel(PC, _).\n",
    "%jump(T) :- time(T), pcat(T, PC), jns_rel(PC, _).\n",
    "%jump(T) :- time(T), pcat(T, PC), jz_rel(PC, _).\n",
    "%jump(T) :- time(T), pcat(T, PC), jnz_rel(PC, _).\n",
    "%jump(T) :- time(T), pcat(T, PC), jc_rel(PC, _).\n",
    "%jump(T) :- time(T), pcat(T, PC), jnc_rel(PC, _).\n",
    "%jump(T) :- time(T), pcat(T, PC), jl_rel(PC, _).\n",
    "%jump(T) :- time(T), pcat(T, PC), jle_rel(PC, _).\n",
    "%jump(T) :- time(T), pcat(T, PC), jg_rel(PC, _).\n",
    "%jump(T) :- time(T), pcat(T, PC), jge_rel(PC, _).\n",
    "%jump(T) :- time(T), pcat(T, PC), jmp_reg(PC, _).\n",
    "%jump(T) :- time(T), pcat(T, PC), jo_reg(PC, _).\n",
    "%jump(T) :- time(T), pcat(T, PC), jno_reg(PC, _).\n",
    "%jump(T) :- time(T), pcat(T, PC), js_reg(PC, _).\n",
    "%jump(T) :- time(T), pcat(T, PC), jns_reg(PC, _).\n",
    "%jump(T) :- time(T), pcat(T, PC), jz_reg(PC, _).\n",
    "%jump(T) :- time(T), pcat(T, PC), jnz_reg(PC, _).\n",
    "%jump(T) :- time(T), pcat(T, PC), jc_reg(PC, _).\n",
    "%jump(T) :- time(T), pcat(T, PC), jnc_reg(PC, _).\n",
    "%jump(T) :- time(T), pcat(T, PC), jl_reg(PC, _).\n",
    "%jump(T) :- time(T), pcat(T, PC), jle_reg(PC, _).\n",
    "%jump(T) :- time(T), pcat(T, PC), jg_reg(PC, _).\n",
    "%jump(T) :- time(T), pcat(T, PC), jge_reg(PC, _).\n",
    "    \n",
    "%% Registers maintain value unless acted upon\n",
    "regbit(T, Reg, Pos) :-\n",
    "    time(T),\n",
    "    register(Reg),\n",
    "    pos(Pos),\n",
    "    regbit(T-1, Reg, Pos),\n",
    "    pcat(T, PC),\n",
    "    not end(PC),\n",
    "    not sub(PC, _, _, Reg),\n",
    "    not add(PC, _, _, Reg),\n",
    "    not mov(PC, _, Reg),\n",
    "    Reg != eip,\n",
    "    Reg != eax,\n",
    "    Reg != imm,\n",
    "    Reg != cmp.\n",
    "regbit(T, eax, Pos) :-\n",
    "    time(T),\n",
    "    pos(Pos),\n",
    "    regbit(T-1, eax, Pos),\n",
    "    pcat(T, PC),\n",
    "    not end(PC),\n",
    "    not apicall(PC, _),\n",
    "    not sub(PC, _, _, eax),\n",
    "    not add(PC, _, _, eax),\n",
    "    not mov(PC, _, eax).\n",
    "    \n",
    "%% PC advances each time step\n",
    "regbit(T+1, eip, 0) :-\n",
    "    time(T),\n",
    "    not regbit(T, eip, 0),\n",
    "    not jump_abs(T, _).\n",
    "regbit(T+1, eip, Pos) :-\n",
    "    time(T),\n",
    "    pos(Pos),\n",
    "    Pos > 0,\n",
    "    regbit(T, eip, Pos),\n",
    "    regbit(T+1, eip, Pos-1),\n",
    "    not jump_abs(T, _).\n",
    "regbit(T+1, eip, Pos) :-\n",
    "    time(T),\n",
    "    pos(Pos),\n",
    "    Pos > 0,\n",
    "    regbit(T, eip, Pos),\n",
    "    not regbit(T, eip, Pos-1),\n",
    "    not jump_abs(T, _).\n",
    "regbit(T+1, eip, Pos) :-\n",
    "    time(T),\n",
    "    pos(Pos),\n",
    "    Pos > 0,\n",
    "    not regbit(T, eip, Pos),\n",
    "    not regbit(T+1, eip, Pos-1),\n",
    "    regbit(T, eip, Pos-1),\n",
    "    not jump_abs(T, _).\n",
    "\n",
    "% Set PC on Jump\n",
    "regbit(T+1, eip, Pos) :-\n",
    "    time(T),\n",
    "    pos(Pos),\n",
    "    jump_abs(T, Pos).\n",
    "    \n",
    "% Comparisons    \n",
    "\n",
    "%% Store value from cmp_imm in imm\n",
    "regbit(T, imm, Pos) :-\n",
    "    time(T),\n",
    "    pos(Pos),\n",
    "    pcat(T, PC),\n",
    "    cmp_imm(PC, _, Pos).\n",
    "\n",
    "%% Reg - imm -> cmp\n",
    "cmp(PC, Reg, imm, cmp) :- cmp_imm(PC, Reg, _).\n",
    "    \n",
    "%% MOV\n",
    "regbit(T+1, Res, Pos) :-\n",
    "    time(T),\n",
    "    register(Res),\n",
    "    pos(Pos),\n",
    "    pcat(T, PC),\n",
    "    mov(PC, Reg, Res),\n",
    "    register(Reg),\n",
    "    regbit(T, Reg, Pos).\n",
    "\n",
    "%% Subtraction\n",
    "regbit(T, Res, Pos) :-\n",
    "    time(T),\n",
    "    register(Res),\n",
    "    pos(Pos),\n",
    "    pcat(T, PC),\n",
    "    cmp(PC, Reg1, Reg2, Res),\n",
    "    register(Reg1),\n",
    "    register(Reg2),\n",
    "    regbit(T, Reg1, Pos),\n",
    "    not regbit(T, Reg2, Pos),\n",
    "    not carry(T, Pos).\n",
    "regbit(T, Res, Pos) :-\n",
    "    time(T),\n",
    "    register(Res),\n",
    "    pos(Pos),\n",
    "    pcat(T, PC),\n",
    "    cmp(PC, Reg1, Reg2, Res),\n",
    "    register(Reg1),\n",
    "    register(Reg2),\n",
    "    not regbit(T, Reg1, Pos),\n",
    "    regbit(T, Reg2, Pos),\n",
    "    not carry(T, Pos).\n",
    "regbit(T, Res, Pos) :-\n",
    "    time(T),\n",
    "    register(Res),\n",
    "    pos(Pos),\n",
    "    pcat(T, PC),\n",
    "    cmp(PC, Reg1, Reg2, Res),\n",
    "    register(Reg1),\n",
    "    register(Reg2),\n",
    "    regbit(T, Reg1, Pos),\n",
    "    regbit(T, Reg2, Pos),\n",
    "    carry(T, Pos).\n",
    "regbit(T, Res, Pos) :-\n",
    "    time(T),\n",
    "    register(Res),\n",
    "    pos(Pos),\n",
    "    pcat(T, PC),\n",
    "    cmp(PC, Reg1, Reg2, Res),\n",
    "    register(Reg1),\n",
    "    register(Reg2),\n",
    "    not regbit(T, Reg1, Pos),\n",
    "    not regbit(T, Reg2, Pos),\n",
    "    carry(T, Pos).\n",
    "carry(T, Pos+1) :-\n",
    "    time(T),\n",
    "    pos(Pos),\n",
    "    pcat(T, PC),\n",
    "    cmp(PC, Reg1, Reg2, _),\n",
    "    register(Reg1),\n",
    "    register(Reg2),\n",
    "    not regbit(T, Reg1, Pos),\n",
    "    regbit(T, Reg2, Pos).\n",
    "carry(T, Pos+1) :-\n",
    "    time(T),\n",
    "    pos(Pos),\n",
    "    pcat(T, PC),\n",
    "    cmp(PC, Reg1, Reg2, _),\n",
    "    register(Reg1),\n",
    "    register(Reg2),\n",
    "    regbit(T, Reg1, Pos),\n",
    "    regbit(T, Reg2, Pos),\n",
    "    carry(T, Pos).\n",
    "carry(T, Pos+1) :-\n",
    "    time(T),\n",
    "    pos(Pos),\n",
    "    pcat(T, PC),\n",
    "    cmp(PC, Reg1, Reg2, _),\n",
    "    register(Reg1),\n",
    "    register(Reg2),\n",
    "    not regbit(T, Reg1, Pos),\n",
    "    not regbit(T, Reg2, Pos),\n",
    "    carry(T, Pos).\n",
    "regbit(T+1, Res, Pos) :-\n",
    "    time(T),\n",
    "    register(Res),\n",
    "    pos(Pos),\n",
    "    pcat(T, PC),\n",
    "    sub(PC, Reg1, Reg2, Res),\n",
    "    register(Reg1),\n",
    "    register(Reg2),\n",
    "    regbit(T, Reg1, Pos),\n",
    "    not regbit(T, Reg2, Pos),\n",
    "    not carry(T, Pos).\n",
    "regbit(T+1, Res, Pos) :-\n",
    "    time(T),\n",
    "    register(Res),\n",
    "    pos(Pos),\n",
    "    pcat(T, PC),\n",
    "    sub(PC, Reg1, Reg2, Res),\n",
    "    register(Reg1),\n",
    "    register(Reg2),\n",
    "    not regbit(T, Reg1, Pos),\n",
    "    regbit(T, Reg2, Pos),\n",
    "    not carry(T, Pos).\n",
    "regbit(T+1, Res, Pos) :-\n",
    "    time(T),\n",
    "    register(Res),\n",
    "    pos(Pos),\n",
    "    pcat(T, PC),\n",
    "    sub(PC, Reg1, Reg2, Res),\n",
    "    register(Reg1),\n",
    "    register(Reg2),\n",
    "    regbit(T, Reg1, Pos),\n",
    "    regbit(T, Reg2, Pos),\n",
    "    carry(T, Pos).\n",
    "regbit(T+1, Res, Pos) :-\n",
    "    time(T),\n",
    "    register(Res),\n",
    "    pos(Pos),\n",
    "    pcat(T, PC),\n",
    "    sub(PC, Reg1, Reg2, Res),\n",
    "    register(Reg1),\n",
    "    register(Reg2),\n",
    "    not regbit(T, Reg1, Pos),\n",
    "    not regbit(T, Reg2, Pos),\n",
    "    carry(T, Pos).\n",
    "carry(T, Pos+1) :-\n",
    "    time(T),\n",
    "    pos(Pos),\n",
    "    pcat(T, PC),\n",
    "    sub(PC, Reg1, Reg2, _),\n",
    "    register(Reg1),\n",
    "    register(Reg2),\n",
    "    not regbit(T, Reg1, Pos),\n",
    "    regbit(T, Reg2, Pos).\n",
    "carry(T, Pos+1) :-\n",
    "    time(T),\n",
    "    pos(Pos),\n",
    "    pcat(T, PC),\n",
    "    sub(PC, Reg1, Reg2, _),\n",
    "    register(Reg1),\n",
    "    register(Reg2),\n",
    "    regbit(T, Reg1, Pos),\n",
    "    regbit(T, Reg2, Pos),\n",
    "    carry(T, Pos).\n",
    "carry(T, Pos+1) :-\n",
    "    time(T),\n",
    "    pos(Pos),\n",
    "    pcat(T, PC),\n",
    "    sub(PC, Reg1, Reg2, _),\n",
    "    register(Reg1),\n",
    "    register(Reg2),\n",
    "    not regbit(T, Reg1, Pos),\n",
    "    not regbit(T, Reg2, Pos),\n",
    "    carry(T, Pos).\n",
    "    \n",
    "%% Addition\n",
    "regbit(T+1, Res, Pos) :-\n",
    "    time(T),\n",
    "    register(Res),\n",
    "    pos(Pos),\n",
    "    pcat(T, PC),\n",
    "    add(PC, Reg1, Reg2, Res),\n",
    "    register(Reg1),\n",
    "    register(Reg2),\n",
    "    regbit(T, Reg1, Pos),\n",
    "    not regbit(T, Reg2, Pos),\n",
    "    not carry(T, Pos).\n",
    "regbit(T+1, Res, Pos) :-\n",
    "    time(T),\n",
    "    register(Res),\n",
    "    pos(Pos),\n",
    "    pcat(T, PC),\n",
    "    add(PC, Reg1, Reg2, Res),\n",
    "    register(Reg1),\n",
    "    register(Reg2),\n",
    "    not regbit(T, Reg1, Pos),\n",
    "    regbit(T, Reg2, Pos),\n",
    "    not carry(T, Pos).\n",
    "regbit(T+1, Res, Pos) :-\n",
    "    time(T),\n",
    "    register(Res),\n",
    "    pos(Pos),\n",
    "    pcat(T, PC),\n",
    "    add(PC, Reg1, Reg2, Res),\n",
    "    register(Reg1),\n",
    "    register(Reg2),\n",
    "    regbit(T, Reg1, Pos),\n",
    "    regbit(T, Reg2, Pos),\n",
    "    carry(T, Pos).\n",
    "regbit(T+1, Res, Pos) :-\n",
    "    time(T),\n",
    "    register(Res),\n",
    "    pos(Pos),\n",
    "    pcat(T, PC),\n",
    "    add(PC, Reg1, Reg2, Res),\n",
    "    register(Reg1),\n",
    "    register(Reg2),\n",
    "    not regbit(T, Reg1, Pos),\n",
    "    not regbit(T, Reg2, Pos),\n",
    "    carry(T, Pos).\n",
    "carry(T, Pos+1) :-\n",
    "    time(T),\n",
    "    pos(Pos),\n",
    "    pcat(T, PC),\n",
    "    add(PC, Reg1, Reg2, _),\n",
    "    register(Reg1),\n",
    "    register(Reg2),\n",
    "    regbit(T, Reg1, Pos),\n",
    "    regbit(T, Reg2, Pos).\n",
    "carry(T, Pos+1) :-\n",
    "    time(T),\n",
    "    pos(Pos),\n",
    "    pcat(T, PC),\n",
    "    add(PC, Reg1, Reg2, _),\n",
    "    register(Reg1),\n",
    "    register(Reg2),\n",
    "    regbit(T, Reg1, Pos),\n",
    "    carry(T, Pos).\n",
    "carry(T, Pos+1) :-\n",
    "    time(T),\n",
    "    pos(Pos),\n",
    "    pcat(T, PC),\n",
    "    add(PC, Reg1, Reg2, _),\n",
    "    register(Reg1),\n",
    "    register(Reg2),\n",
    "    regbit(T, Reg2, Pos),\n",
    "    carry(T, Pos).\n",
    "    \n",
    "%% API Calls: single value\n",
    "0 { regbit(T, eax, Pos) } 1 :-\n",
    "    time(T),\n",
    "    pos(Pos),\n",
    "    pcat(T, PC),\n",
    "    apicall(PC, Call),\n",
    "    apitype_value(Call).\n",
    "    \n",
    "%% Flags\n",
    "flg(T, c) :- \n",
    "    time(T),\n",
    "    mathop(T, _),\n",
    "    carry(T, intlen).\n",
    "flg(T, c) :- \n",
    "    time(T),\n",
    "    not mathop(T, _),\n",
    "    flg(T-1, c).\n",
    "flg(T, z) :-\n",
    "    time(T),\n",
    "    mathop(T, Reg),\n",
    "    not regbit(T, Reg, _).\n",
    "flg(T, z) :-\n",
    "    time(T),\n",
    "    not mathop(T, _),\n",
    "    flg(T-1, z).\n",
    "flg(T, s) :-\n",
    "    time(T),\n",
    "    mathop(T, Reg),\n",
    "    regbit(T, Reg, intlen-1).\n",
    "flg(T, s) :-\n",
    "    time(T),\n",
    "    not mathop(T, _),\n",
    "    flg(T-1, s).\n",
    "flg(T, o) :-\n",
    "    time(T),\n",
    "    pcat(T, PC),\n",
    "    add(PC, Reg1, Reg2, Res),\n",
    "    register(Reg1),\n",
    "    register(Reg2),\n",
    "    register(Res),\n",
    "    regbit(T-1, Reg1, intlen-1),\n",
    "    regbit(T-1, Reg2, intlen-1),\n",
    "    not regbit(T, Res, intlen-1).\n",
    "flg(T, o) :-\n",
    "    time(T),\n",
    "    pcat(T, PC),\n",
    "    add(PC, Reg1, Reg2, Res),\n",
    "    register(Reg1),\n",
    "    register(Reg2),\n",
    "    register(Res),\n",
    "    not regbit(T-1, Reg1, intlen-1),\n",
    "    not regbit(T-1, Reg2, intlen-1),\n",
    "    regbit(T, Res, intlen-1).\n",
    "flg(T, o) :-\n",
    "    time(T),\n",
    "    pcat(T, PC),\n",
    "    sub(PC, Reg1, Reg2, Res),\n",
    "    register(Reg1),\n",
    "    register(Reg2),\n",
    "    register(Res),\n",
    "    regbit(T-1, Reg1, intlen-1),\n",
    "    not regbit(T-1, Reg2, intlen-1),\n",
    "    not regbit(T, Res, intlen-1).\n",
    "flg(T, o) :-\n",
    "    time(T),\n",
    "    pcat(T, PC),\n",
    "    sub(PC, Reg1, Reg2, Res),\n",
    "    register(Reg1),\n",
    "    register(Reg2),\n",
    "    register(Res),\n",
    "    not regbit(T-1, Reg1, intlen-1),\n",
    "    regbit(T-1, Reg2, intlen-1),\n",
    "    regbit(T, Res, intlen-1).\n",
    "flg(T, o) :-\n",
    "    time(T),\n",
    "    not mathop(T, _),\n",
    "    flg(T-1, o).\n"
   ]
  },
  {
   "cell_type": "markdown",
   "metadata": {},
   "source": [
    "## Malware detection\n",
    "Now that we have a model for the processor, we must define what actions constitute malware. Then, we can forbid solutions that don't encounter any malware to determine if there is a way the software can be malicious."
   ]
  },
  {
   "cell_type": "code",
   "execution_count": 9,
   "metadata": {
    "collapsed": false
   },
   "outputs": [
    {
     "name": "stdout",
     "output_type": "stream",
     "text": [
      "Overwriting find-malware.lp\n"
     ]
    }
   ],
   "source": [
    "%%file find-malware.lp\n",
    "    \n",
    "malware_sig_eicar(T, PC) :- time(T), pcat(T, PC), eicar(PC).\n",
    "malware_sig_self_edit(T, PC) :- time(T), pcat(T, PC), sto(PC, Reg1, Reg2), register(Reg1), register(Reg2), not toolong(T, Reg2).\n",
    "    \n",
    "malware_sig(T) :- malware_sig_eicar(T, _).\n",
    "malware_sig(T) :- malware_sig_self_edit(T, _).\n",
    "    \n",
    ":- not malware_sig(_).\n",
    "%:- end(PC), #sum { T2:pcat(T2, PC); -T1:malware_sig(T1) } -1.\n",
    "%#maximize { 1, sig, T: malware_sig(T) }."
   ]
  },
  {
   "cell_type": "markdown",
   "metadata": {},
   "source": [
    "## Retrieving results\n",
    "Once a malware signature has been found, we want to identify the conditions for reaching it. To do so, we want to generate new facts that identify the results of API calls, and show them."
   ]
  },
  {
   "cell_type": "code",
   "execution_count": 10,
   "metadata": {
    "collapsed": false
   },
   "outputs": [
    {
     "name": "stdout",
     "output_type": "stream",
     "text": [
      "Overwriting diagnostics.lp\n"
     ]
    }
   ],
   "source": [
    "%%file diagnostics.lp\n",
    "\n",
    "apicall_ret(T, PC) :-\n",
    "    time(T),\n",
    "    pcat(T, PC),\n",
    "    apicall(PC, _).\n",
    "    \n",
    "apicall_res(T, Pos) :-\n",
    "    apicall_ret(T, _),\n",
    "    pos(Pos),\n",
    "    regbit(T, eax, Pos).\n",
    "    \n",
    "#show apicall_ret/2.\n",
    "#show apicall_res/2.\n",
    "#show malware_sig_eicar/2.\n",
    "#show malware_sig_self_edit/2."
   ]
  },
  {
   "cell_type": "markdown",
   "metadata": {},
   "source": [
    "## Solving\n",
    "Putting this all together, we can now solve."
   ]
  },
  {
   "cell_type": "code",
   "execution_count": 11,
   "metadata": {
    "collapsed": false
   },
   "outputs": [
    {
     "name": "stdout",
     "output_type": "stream",
     "text": [
      "{\n",
      "  \"Solver\": \"clingo version 5.1.0\",\n",
      "  \"Input\": [\n",
      "    \"formulation.lp\",\"instance.lp\",\"pcat32.lp\",\"find-malware.lp\",\"diagnostics.lp\"\n",
      "  ],\n",
      "  \"Call\": [\n",
      "    {\n",
      "      \"Witnesses\": [\n",
      "        {\n",
      "          \"Value\": [\n",
      "            \"apicall_ret(1,1)\", \"apicall_ret(3,3)\", \"apicall_res(3,31)\", \"apicall_res(1,31)\", \"apicall_res(1,20)\", \"malware_sig_eicar(10,10)\"\n",
      "          ]\n",
      "        }\n",
      "      ]\n",
      "    }\n",
      "  ],\n",
      "  \"Result\": \"SATISFIABLE\",\n",
      "  \"Models\": {\n",
      "    \"Number\": 1,\n",
      "    \"More\": \"yes\"\n",
      "  },\n",
      "  \"Calls\": 1,\n",
      "  \"Time\": {\n",
      "    \"Total\": 0.954,\n",
      "    \"Solve\": 0.014,\n",
      "    \"Model\": 0.014,\n",
      "    \"Unsat\": 0.000,\n",
      "    \"CPU\": 0.766\n",
      "  }\n",
      "}\n"
     ]
    }
   ],
   "source": [
    "!clingo formulation.lp instance.lp pcat32.lp find-malware.lp diagnostics.lp -W none -c intlen=32 --outf=2 --time-limit=60 | tee trace.json"
   ]
  },
  {
   "cell_type": "markdown",
   "metadata": {},
   "source": [
    "## Visualization\n",
    "The result can now be visualized."
   ]
  },
  {
   "cell_type": "code",
   "execution_count": 12,
   "metadata": {
    "collapsed": false
   },
   "outputs": [
    {
     "name": "stdout",
     "output_type": "stream",
     "text": [
      "Overwriting visualizer.py\n"
     ]
    }
   ],
   "source": [
    "%%file visualizer.py\n",
    "\n",
    "import json\n",
    "\n",
    "maxtime = 16\n",
    "maxpc = 8\n",
    "maxtimelen = str(int(maxtime.bit_length()/4)+1)\n",
    "maxpclen = str(int(maxpc.bit_length()/4)+1)\n",
    "\n",
    "calls = {}\n",
    "sigs = []\n",
    "cpu = 0\n",
    "grounding = 0\n",
    "solving = 0\n",
    "\n",
    "with open('trace.json') as f:\n",
    "    data = json.loads(f.read())\n",
    "    if \"Witnesses\" in data[\"Call\"][0]:\n",
    "        for fact in data[\"Call\"][0][\"Witnesses\"][-1][\"Value\"]:\n",
    "            ent = fact.split('(')\n",
    "            ent[1] = ent[1][:-1].split(',')\n",
    "            if ent[0] == \"apicall_ret\":\n",
    "                if not int(ent[1][0]) in calls:\n",
    "                    calls[int(ent[1][0])] = {'PC' : int(ent[1][1]), 'value': 0}\n",
    "                else:\n",
    "                    calls[int(ent[1][0])]['PC'] = int(ent[1][1])\n",
    "            if ent[0] == \"apicall_res\":\n",
    "                if not int(ent[1][0]) in calls:\n",
    "                    calls[int(ent[1][0])] = {'PC' : 0, 'value': 1<<int(ent[1][1])}\n",
    "                else:\n",
    "                    calls[int(ent[1][0])]['value'] += 1<<int(ent[1][1])\n",
    "            if ent[0][:12] == \"malware_sig_\":\n",
    "                sigs.append({'type':ent[0][12:], 'time': int(ent[1][0]), 'PC': int(ent[1][1])})\n",
    "    else:\n",
    "        print(\"No malware signatures could be reached.\")\n",
    "    cpu = data[\"Time\"][\"CPU\"]\n",
    "    solving = data[\"Time\"][\"Solve\"]\n",
    "    grounding = cpu - solving\n",
    "            \n",
    "for sig in sigs:\n",
    "    print((\"Signature {:s} encountered at time 0x{:0\" + maxtimelen + \"X} at PC 0x{:0\" + maxpclen + \"X}\\n\")\\\n",
    "          .format(sig['type'].upper(), sig['time'], sig['PC']))\n",
    "    print((\"{:\" + str(int(maxtimelen)+2) + \"s}\\t{:\" + str(int(maxpclen)+2) + \"s}\\t{:10s}\").format(\"Time\", \"PC\", \"Value\"))\n",
    "    for call in sorted(calls.items()):\n",
    "        print((\"0x{:0\" + maxtimelen + \"X}\\t0x{:0\" + maxpclen + \"X}\\t0x{:08X}\")\\\n",
    "             .format(call[0], call[1]['PC'], call[1]['value']))    \n",
    "        \n",
    "print('\\nTotal Time: {:1.03f}s\\tGrounding: {:1.03f}s\\tSolving: {:1.03f}s'.format(cpu, grounding, solving))"
   ]
  },
  {
   "cell_type": "code",
   "execution_count": 13,
   "metadata": {
    "collapsed": false
   },
   "outputs": [
    {
     "name": "stdout",
     "output_type": "stream",
     "text": [
      "Signature EICAR encountered at time 0x0A at PC 0x0A\n",
      "\n",
      "Time\tPC  \tValue     \n",
      "0x01\t0x01\t0x80100000\n",
      "0x03\t0x03\t0x80000000\n",
      "\n",
      "Total Time: 0.766s\tGrounding: 0.752s\tSolving: 0.014s\n"
     ]
    }
   ],
   "source": [
    "%run visualizer.py"
   ]
  },
  {
   "cell_type": "markdown",
   "metadata": {},
   "source": [
    "## Packaging\n",
    "For ease of use, all of these commands are packaged into a bash script."
   ]
  },
  {
   "cell_type": "code",
   "execution_count": 14,
   "metadata": {
    "collapsed": false
   },
   "outputs": [
    {
     "name": "stdout",
     "output_type": "stream",
     "text": [
      "Overwriting aspemu\n"
     ]
    }
   ],
   "source": [
    "%%file aspemu\n",
    "#!/bin/bash\n",
    "\n",
    "filename=\"$1\"\n",
    "timesteps=\"$2\"\n",
    "\n",
    "if [ \"$filename\" = \"\" ]; then\n",
    "    echo \"usage: aspemu <filename> [timesteps]\"\n",
    "fi\n",
    "python prep-instance.py \"$filename\" \"$timesteps\"\n",
    "if [ \"$?\" -ne \"0\" ]; then\n",
    "    exit\n",
    "fi\n",
    "clingo formulation.lp instance.lp pcat32.lp find-malware.lp diagnostics.lp -W none --outf=2 --time-limit=60 > trace.json\n",
    "python visualizer.py\n"
   ]
  },
  {
   "cell_type": "code",
   "execution_count": 15,
   "metadata": {
    "collapsed": false
   },
   "outputs": [
    {
     "name": "stdout",
     "output_type": "stream",
     "text": [
      "Signature EICAR encountered at time 0x0A at PC 0x0A\n",
      "\n",
      "Time\tPC  \tValue     \n",
      "0x01\t0x01\t0x80100000\n",
      "0x03\t0x03\t0x80000000\n",
      "\n",
      "Total Time: 0.391s\tGrounding: 0.375s\tSolving: 0.016s\n"
     ]
    }
   ],
   "source": [
    "!bash aspemu instance-6.ins"
   ]
  }
 ],
 "metadata": {
  "kernelspec": {
   "display_name": "Python 3",
   "language": "python",
   "name": "python3"
  },
  "language_info": {
   "codemirror_mode": {
    "name": "ipython",
    "version": 3
   },
   "file_extension": ".py",
   "mimetype": "text/x-python",
   "name": "python",
   "nbconvert_exporter": "python",
   "pygments_lexer": "ipython3",
   "version": "3.6.0"
  }
 },
 "nbformat": 4,
 "nbformat_minor": 2
}
