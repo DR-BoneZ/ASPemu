{
 "cells": [
  {
   "cell_type": "markdown",
   "metadata": {},
   "source": [
    "## Current Formulation"
   ]
  },
  {
   "cell_type": "code",
   "execution_count": 26,
   "metadata": {
    "collapsed": false
   },
   "outputs": [
    {
     "name": "stdout",
     "output_type": "stream",
     "text": [
      "Overwriting sample-formulation.lp\n"
     ]
    }
   ],
   "source": [
    "%%file sample-formulation.lp\n",
    "\n",
    "#const intlen = 32.\n",
    "\n",
    "register(eax;ebx;ecx;edx;esi;edi;edp;esp;eip).\n",
    "flag(n;z;p).\n",
    "pos(0..intlen-1).\n",
    "bit(0;1).\n",
    "imm8(-128..127).\n",
    "time(T) :- T = 0..maxtime.\n",
    "regbit(0, Reg, Pos, 0) :- register(Reg), pos(Pos).\n",
    "flg(0, Flag, 0) :- flag(Flag).\n",
    "    \n",
    ":- regbit(T, Reg, Pos, B1), regbit(T, Reg, Pos, B2), B1 > B2, register(Reg), pos(Pos), bit(B1), bit(B2), time(T).\n",
    ":- flg(T, Flag, B1), flg(T, Flag, B2), B1 > B2, flag(Flag), bit(B1), bit(B2), time(T).\n",
    "    \n",
    "cmp(PC) :- cmp_imm(PC, Reg, Val), register(Reg), imm8(Val).\n",
    "%cmp(PC) :- cmp_reg(PC, Reg1, Reg2), register(Reg1), register(Reg2).\n",
    "    \n",
    "%ge_reg_imm(T, Reg, Val) :- time(T), register(Reg), imm8(Val), gt_reg_imm(T, Reg, Val).\n",
    "%ge_reg_imm(T, Reg, Val) :- time(T), register(Reg), imm8(Val), eq_reg_imm(T, Reg, Val).\n",
    "%le_reg_imm(T, Reg, Val) :- time(T), register(Reg), imm8(Val), gt_reg_imm(T, Reg, Val).\n",
    "%le_reg_imm(T, Reg, Val) :- time(T), register(Reg), imm8(Val), eq_reg_imm(T, Reg, Val).\n",
    "%ne_reg_imm(T, Reg, Val) :- time(T), register(Reg), imm8(Val), gt_reg_imm(T, Reg, Val).\n",
    "%ne_reg_imm(T, Reg, Val) :- time(T), register(Reg), imm8(Val), lt_reg_imm(T, Reg, Val).\n",
    "\n",
    "%gt_reg_imm(T, Reg, Val) :-\n",
    "%    time(T),\n",
    "%    register(Reg),\n",
    "%    imm8(Val),\n",
    "%    regbit(T, Reg, Pos, 1),\n",
    "%    pos(Pos),\n",
    "%    Pos > @bitlen(Val).\n",
    "%gt_reg_imm(T, Reg, Val) :-\n",
    "%    time(T),\n",
    "%    register(Reg),\n",
    "%    imm8(Val),\n",
    "%    regbit(T, Reg, Pos, 1),\n",
    "%    pos(Pos),\n",
    "%    Pos = @bitlen(Val),\n",
    "%    regbit(T, Reg, Pos2, \n",
    "\n",
    "flg(T, Flag, Val) :-\n",
    "    time(T),\n",
    "    flag(Flag),\n",
    "    regval(T, eip, PC),\n",
    "    flg(T-1, Flag, Val),\n",
    "    not cmp(PC).\n",
    "\n",
    "flg(T, n, 0) :-\n",
    "    time(T),\n",
    "    flag(Flag),\n",
    "    regval(T, eip, PC),\n",
    "    cmp_imm(PC, Reg, Val),\n",
    "    register(Reg),\n",
    "    imm8(Val),\n",
    "    regval(T, Reg, RVal),\n",
    "    RVal >= Val.\n",
    "    \n",
    "flg(T, n, 1) :-\n",
    "    time(T),\n",
    "    flag(Flag),\n",
    "    regval(T, eip, PC),\n",
    "    cmp_imm(PC, Reg, Val),\n",
    "    register(Reg),\n",
    "    imm8(Val),\n",
    "    regval(T, Reg, RVal),\n",
    "    RVal < Val.\n",
    "    \n",
    "flg(T, z, 0) :-\n",
    "    time(T),\n",
    "    flag(Flag),\n",
    "    regval(T, eip, PC),\n",
    "    cmp_imm(PC, Reg, Val),\n",
    "    register(Reg),\n",
    "    imm8(Val),\n",
    "    regval(T, Reg, RVal),\n",
    "    RVal != Val.\n",
    "    \n",
    "flg(T, z, 1) :-\n",
    "    time(T),\n",
    "    flag(Flag),\n",
    "    regval(T, eip, PC),\n",
    "    cmp_imm(PC, Reg, Val),\n",
    "    register(Reg),\n",
    "    imm8(Val),\n",
    "    regval(T, Reg, RVal),\n",
    "    RVal = Val.\n",
    "    \n",
    "flg(T, p, 0) :-\n",
    "    time(T),\n",
    "    flag(Flag),\n",
    "    regval(T, eip, PC),\n",
    "    cmp_imm(PC, Reg, Val),\n",
    "    register(Reg),\n",
    "    imm8(Val),\n",
    "    regval(T, Reg, RVal),\n",
    "    RVal <= Val.\n",
    "    \n",
    "flg(T, p, 1) :-\n",
    "    time(T),\n",
    "    flag(Flag),\n",
    "    regval(T, eip, PC),\n",
    "    cmp_imm(PC, Reg, Val),\n",
    "    register(Reg),\n",
    "    imm8(Val),\n",
    "    regval(T, Reg, RVal),\n",
    "    RVal > Val.\n",
    "\n",
    "regbit(T, Reg, Pos, Val) :-\n",
    "    time(T),\n",
    "    register(Reg),\n",
    "    pos(Pos),\n",
    "    Reg != eip,\n",
    "    regval(T, eip, PC),\n",
    "    regbit(T-1, Reg, Pos, Val),\n",
    "    Reg != eax,\n",
    "    not end(PC).\n",
    "    \n",
    "regbit(T, eax, Pos, Val) :-\n",
    "    time(T),\n",
    "    pos(Pos),\n",
    "    regval(T, eip, PC),\n",
    "    regbit(T-1, eax, Pos, Val),\n",
    "    not apicall(PC, _).\n",
    "    \n",
    "regval(T, eip, PC) :-\n",
    "    time(T),\n",
    "    regval(T-1, eip, PC-1),\n",
    "    %not jmp(PC, _),\n",
    "    %not je(PC, _),\n",
    "    not jne(PC-1, _),\n",
    "    %not jg(PC, _),\n",
    "    %not jge(PC, _),\n",
    "    %not jl(PC, _),\n",
    "    %not jle(PC, _),\n",
    "    not end(PC-1).\n",
    "    \n",
    "regbit(T, eip, Pos, B) :-\n",
    "    time(T),\n",
    "    pos(Pos),\n",
    "    jne(PC2, PC),\n",
    "    regval(T-1, eip, PC2),\n",
    "    PC / (2 ** Pos) & 1 = B,\n",
    "    flg(T-1, z, 0).\n",
    "    \n",
    "regbit(T, eip, Pos, B) :-\n",
    "    time(T),\n",
    "    pos(Pos),\n",
    "    jne(PC-1, _),\n",
    "    regval(T-1, eip, PC-1),\n",
    "    PC / (2 ** Pos) & 1 = B,\n",
    "    flg(T-1, z, 1).\n",
    "\n",
    "%% Right now, 32 bits takes forever, so currently only allowing 8 bits of entropy.\n",
    "apicall_res(T, Pos, 0) :-\n",
    "    Pos > 7,\n",
    "    time(T),\n",
    "    pos(Pos),\n",
    "    regval(T, eip, PC),\n",
    "    apicall(PC, get_something).\n",
    "1 { apicall_res(T, Pos, B):bit(B) } 1 :-\n",
    "    Pos <= 7,\n",
    "    time(T),\n",
    "    pos(Pos),\n",
    "    regval(T, eip, PC),\n",
    "    apicall(PC, get_something).\n",
    "    \n",
    "regbit(T, eax, Pos, B) :-\n",
    "    time(T),\n",
    "    pos(Pos),\n",
    "    apicall_res(T, Pos, B),\n",
    "    regval(T, eip, PC),\n",
    "    apicall(PC, _).\n",
    "    \n",
    "malware_sig_eicar(T) :-\n",
    "    time(T),\n",
    "    regval(T, eip, PC),\n",
    "    eicar(PC).\n",
    "    \n",
    "malware_sig :- malware_sig_eicar(T), time(T).\n",
    "    \n",
    "%:- not malware_sig.\n",
    "    \n",
    "%#script(python)\n",
    "%def bitlen(x):\n",
    "%    return int(x).bit_length()\n",
    "%#end.\n",
    "\n",
    "%#show malware_sig_eicar/1.\n",
    "%#show apicall_res/3.\n",
    "#show regval/3.\n",
    "#show apicall_res/3.\n"
   ]
  },
  {
   "cell_type": "markdown",
   "metadata": {},
   "source": [
    "### Convert between numeric and bitwise representation"
   ]
  },
  {
   "cell_type": "code",
   "execution_count": 23,
   "metadata": {
    "collapsed": false
   },
   "outputs": [
    {
     "name": "stdout",
     "output_type": "stream",
     "text": [
      "Overwriting regval32.lp\n"
     ]
    }
   ],
   "source": [
    "%%file regval32.lp\n",
    "\n",
    "regbit(T, Reg, Pos, B) :-\n",
    "    time(T),\n",
    "    register(Reg),\n",
    "    pos(Pos),\n",
    "    regval(T, Reg, Val),\n",
    "    Val / (2 ** Pos) & 1 = B.\n",
    "\n",
    "regval(T, Reg, Val) :-\n",
    "    time(T),\n",
    "    register(Reg),\n",
    "    regbit(T, Reg, 0, B0),\n",
    "    regbit(T, Reg, 1, B1),\n",
    "    regbit(T, Reg, 2, B2),\n",
    "    regbit(T, Reg, 3, B3),\n",
    "    regbit(T, Reg, 4, B4),\n",
    "    regbit(T, Reg, 5, B5),\n",
    "    regbit(T, Reg, 6, B6),\n",
    "    regbit(T, Reg, 7, B7),\n",
    "    regbit(T, Reg, 8, B8),\n",
    "    regbit(T, Reg, 9, B9),\n",
    "    regbit(T, Reg, 10, B10),\n",
    "    regbit(T, Reg, 11, B11),\n",
    "    regbit(T, Reg, 12, B12),\n",
    "    regbit(T, Reg, 13, B13),\n",
    "    regbit(T, Reg, 14, B14),\n",
    "    regbit(T, Reg, 15, B15),\n",
    "    regbit(T, Reg, 16, B16),\n",
    "    regbit(T, Reg, 17, B17),\n",
    "    regbit(T, Reg, 18, B18),\n",
    "    regbit(T, Reg, 19, B19),\n",
    "    regbit(T, Reg, 20, B20),\n",
    "    regbit(T, Reg, 21, B21),\n",
    "    regbit(T, Reg, 22, B22),\n",
    "    regbit(T, Reg, 23, B23),\n",
    "    regbit(T, Reg, 24, B24),\n",
    "    regbit(T, Reg, 25, B25),\n",
    "    regbit(T, Reg, 26, B26),\n",
    "    regbit(T, Reg, 27, B27),\n",
    "    regbit(T, Reg, 28, B28),\n",
    "    regbit(T, Reg, 29, B29),\n",
    "    regbit(T, Reg, 30, B30),\n",
    "    regbit(T, Reg, 31, B31),\n",
    "    Val = (B31 * (2 ** 31)) +\n",
    "          (B30 * (2 ** 30)) +\n",
    "          (B29 * (2 ** 29)) +\n",
    "          (B28 * (2 ** 28)) +\n",
    "          (B27 * (2 ** 27)) +\n",
    "          (B26 * (2 ** 26)) +\n",
    "          (B25 * (2 ** 25)) +\n",
    "          (B24 * (2 ** 24)) +\n",
    "          (B23 * (2 ** 23)) +\n",
    "          (B22 * (2 ** 22)) +\n",
    "          (B21 * (2 ** 21)) +\n",
    "          (B20 * (2 ** 20)) +\n",
    "          (B19 * (2 ** 19)) +\n",
    "          (B18 * (2 ** 18)) +\n",
    "          (B17 * (2 ** 17)) +\n",
    "          (B16 * (2 ** 16)) +\n",
    "          (B15 * (2 ** 15)) +\n",
    "          (B14 * (2 ** 14)) +\n",
    "          (B13 * (2 ** 13)) +\n",
    "          (B12 * (2 ** 12)) +\n",
    "          (B11 * (2 ** 11)) +\n",
    "          (B10 * (2 ** 10)) +\n",
    "          (B9 * (2 ** 9)) +\n",
    "          (B8 * (2 ** 8)) +\n",
    "          (B7 * (2 ** 7)) +\n",
    "          (B6 * (2 ** 6)) +\n",
    "          (B5 * (2 ** 5)) +\n",
    "          (B4 * (2 ** 4)) +\n",
    "          (B3 * (2 ** 3)) +\n",
    "          (B2 * (2 ** 2)) +\n",
    "          (B1 * (2 ** 1)) + B0.\n"
   ]
  },
  {
   "cell_type": "markdown",
   "metadata": {},
   "source": [
    "## Simple Instance with 1 choice"
   ]
  },
  {
   "cell_type": "code",
   "execution_count": 29,
   "metadata": {
    "collapsed": false
   },
   "outputs": [
    {
     "name": "stdout",
     "output_type": "stream",
     "text": [
      "Overwriting instance-2.lp\n"
     ]
    }
   ],
   "source": [
    "%%file instance-2.lp\n",
    "\n",
    "#const maxtime = 6.\n",
    "\n",
    "apicall(1, get_something).\n",
    "cmp_imm(2, eax, 0).\n",
    "jne(3, 5).\n",
    "eicar(4).\n",
    "end(5)."
   ]
  },
  {
   "cell_type": "code",
   "execution_count": 37,
   "metadata": {
    "collapsed": false
   },
   "outputs": [
    {
     "name": "stdout",
     "output_type": "stream",
     "text": [
      "Reading from regval32.lp ...\n",
      "Solving...\n",
      "Answer: 1\n",
      "apicall_res(1,8,0) apicall_res(1,9,0) apicall_res(1,10,0) apicall_res(1,11,0) apicall_res(1,12,0) apicall_res(1,13,0) apicall_res(1,14,0) apicall_res(1,15,0) apicall_res(1,16,0) apicall_res(1,17,0) apicall_res(1,18,0) apicall_res(1,19,0) apicall_res(1,20,0) apicall_res(1,21,0) apicall_res(1,22,0) apicall_res(1,23,0) apicall_res(1,24,0) apicall_res(1,25,0) apicall_res(1,26,0) apicall_res(1,27,0) apicall_res(1,28,0) apicall_res(1,29,0) apicall_res(1,30,0) apicall_res(1,31,0) regval(0,eip,0) regval(0,esp,0) regval(0,edp,0) regval(0,edi,0) regval(0,esi,0) regval(0,edx,0) regval(0,ecx,0) regval(0,ebx,0) regval(0,eax,0) regval(1,eip,1) regval(2,eip,2) regval(1,esp,0) regval(1,edp,0) regval(1,edi,0) regval(1,esi,0) regval(1,edx,0) regval(1,ecx,0) regval(1,ebx,0) regval(3,eip,3) regval(2,ebx,0) regval(2,ecx,0) regval(2,edx,0) regval(2,esi,0) regval(2,edi,0) regval(2,edp,0) regval(2,esp,0) regval(3,esp,0) regval(3,edp,0) regval(3,edi,0) regval(3,esi,0) regval(3,edx,0) regval(3,ecx,0) regval(3,ebx,0) apicall_res(1,0,0) apicall_res(1,1,0) apicall_res(1,2,0) apicall_res(1,3,0) apicall_res(1,4,0) apicall_res(1,5,0) apicall_res(1,6,0) apicall_res(1,7,0) regval(1,eax,0) regval(2,eax,0) regval(3,eax,0) regval(4,eip,4) regval(5,eip,5) regval(4,esp,0) regval(4,edp,0) regval(4,edi,0) regval(4,esi,0) regval(4,edx,0) regval(4,ecx,0) regval(4,ebx,0) regval(4,eax,0) regval(5,eax,0)\n",
      "SATISFIABLE\n",
      "\n",
      "Models       : 1+\n",
      "Calls        : 1\n",
      "Time         : 0.236s (Solving: 0.00s 1st Model: 0.00s Unsat: 0.00s)\n",
      "CPU Time     : 0.234s\n"
     ]
    }
   ],
   "source": [
    "!clingo regval32.lp instance-2.lp sample-formulation.lp --time-limit=60 | tail"
   ]
  },
  {
   "cell_type": "markdown",
   "metadata": {},
   "source": [
    "All time is in grounding."
   ]
  },
  {
   "cell_type": "code",
   "execution_count": 36,
   "metadata": {
    "collapsed": false
   },
   "outputs": [
    {
     "name": "stdout",
     "output_type": "stream",
     "text": [
      "Rules        : 26998    (Original: 26990)\n",
      "  Choice     : 8       \n",
      "Atoms        : 3285    \n",
      "Bodies       : 2789     (Original: 2797)\n",
      "  Count      : 0        (Original: 8)\n",
      "Equivalences : 5384     (Atom=Atom: 50 Body=Body: 9 Other: 5325)\n",
      "Tight        : No       (SCCs: 13 Non-Hcfs: 0 Nodes: 4373 Gammas: 0)\n",
      "Variables    : 1791     (Eliminated:    0 Frozen: 1763)\n",
      "Constraints  : 48864    (Binary:  96.4% Ternary:   0.6% Other:   3.0%)\n",
      "\n"
     ]
    }
   ],
   "source": [
    "!clingo regval32.lp instance-2.lp sample-formulation.lp --time-limit=60 --stats | tail"
   ]
  },
  {
   "cell_type": "code",
   "execution_count": 31,
   "metadata": {
    "collapsed": false
   },
   "outputs": [
    {
     "name": "stdout",
     "output_type": "stream",
     "text": [
      "Overwriting instance-4.lp\n"
     ]
    }
   ],
   "source": [
    "%%file instance-4.lp\n",
    "\n",
    "#const maxtime = 12.\n",
    "\n",
    "apicall(1, get_something).\n",
    "cmp_imm(2, eax, 0).\n",
    "jne(3, 5).\n",
    "eicar(4).\n",
    "apicall(5, get_something).\n",
    "cmp_imm(6, eax, 12).\n",
    "jne(7, 9).\n",
    "eicar(8).\n",
    "end(9)."
   ]
  },
  {
   "cell_type": "code",
   "execution_count": 32,
   "metadata": {
    "collapsed": false
   },
   "outputs": [
    {
     "name": "stdout",
     "output_type": "stream",
     "text": [
      "Reading from regval32.lp ...\n",
      "Solving...\n",
      "Answer: 1\n",
      "apicall_res(1,8,0) apicall_res(1,9,0) apicall_res(1,10,0) apicall_res(1,11,0) apicall_res(1,12,0) apicall_res(1,13,0) apicall_res(1,14,0) apicall_res(1,15,0) apicall_res(1,16,0) apicall_res(1,17,0) apicall_res(1,18,0) apicall_res(1,19,0) apicall_res(1,20,0) apicall_res(1,21,0) apicall_res(1,22,0) apicall_res(1,23,0) apicall_res(1,24,0) apicall_res(1,25,0) apicall_res(1,26,0) apicall_res(1,27,0) apicall_res(1,28,0) apicall_res(1,29,0) apicall_res(1,30,0) apicall_res(1,31,0) regval(0,eip,0) regval(0,esp,0) regval(0,edp,0) regval(0,edi,0) regval(0,esi,0) regval(0,edx,0) regval(0,ecx,0) regval(0,ebx,0) regval(0,eax,0) regval(1,eip,1) regval(2,eip,2) regval(1,esp,0) regval(1,edp,0) regval(1,edi,0) regval(1,esi,0) regval(1,edx,0) regval(1,ecx,0) regval(1,ebx,0) regval(3,eip,3) regval(2,ebx,0) regval(2,ecx,0) regval(2,edx,0) regval(2,esi,0) regval(2,edi,0) regval(2,edp,0) regval(2,esp,0) regval(3,esp,0) regval(3,edp,0) regval(3,edi,0) regval(3,esi,0) regval(3,edx,0) regval(3,ecx,0) regval(3,ebx,0) apicall_res(1,0,1) apicall_res(1,1,0) apicall_res(1,2,0) apicall_res(1,3,0) apicall_res(1,4,0) apicall_res(1,5,1) apicall_res(1,6,1) apicall_res(1,7,1) regval(1,eax,225) regval(2,eax,225) regval(3,eax,225) regval(4,eip,5) apicall_res(4,8,0) apicall_res(4,9,0) apicall_res(4,10,0) apicall_res(4,11,0) apicall_res(4,12,0) apicall_res(4,13,0) apicall_res(4,14,0) apicall_res(4,15,0) apicall_res(4,16,0) apicall_res(4,17,0) apicall_res(4,18,0) apicall_res(4,19,0) apicall_res(4,20,0) apicall_res(4,21,0) apicall_res(4,22,0) apicall_res(4,23,0) apicall_res(4,24,0) apicall_res(4,25,0) apicall_res(4,26,0) apicall_res(4,27,0) apicall_res(4,28,0) apicall_res(4,29,0) apicall_res(4,30,0) apicall_res(4,31,0) regval(5,eip,6) regval(4,esp,0) regval(4,edp,0) regval(4,edi,0) regval(4,esi,0) regval(4,edx,0) regval(4,ecx,0) regval(4,ebx,0) regval(4,eax,12) regval(6,eip,7) regval(5,ebx,0) regval(5,ecx,0) regval(5,edx,0) regval(5,esi,0) regval(5,edi,0) regval(5,edp,0) regval(5,esp,0) regval(5,eax,12) apicall_res(4,0,0) apicall_res(4,1,0) apicall_res(4,2,1) apicall_res(4,3,1) apicall_res(4,4,0) apicall_res(4,5,0) apicall_res(4,6,0) apicall_res(4,7,0) regval(6,esp,0) regval(6,edp,0) regval(6,edi,0) regval(6,esi,0) regval(6,edx,0) regval(6,ecx,0) regval(6,ebx,0) regval(6,eax,12) regval(7,ebx,0) regval(7,ecx,0) regval(7,edx,0) regval(7,esi,0) regval(7,edi,0) regval(7,edp,0) regval(7,esp,0) regval(7,eax,12) regval(7,eip,8) regval(8,eip,9) regval(8,eax,12)\n",
      "SATISFIABLE\n",
      "\n",
      "Models       : 1+\n",
      "Calls        : 1\n",
      "Time         : 9.961s (Solving: 0.17s 1st Model: 0.17s Unsat: 0.00s)\n",
      "CPU Time     : 9.813s\n"
     ]
    }
   ],
   "source": [
    "!clingo regval32.lp instance-4.lp sample-formulation.lp --time-limit=60 | tail"
   ]
  },
  {
   "cell_type": "code",
   "execution_count": 33,
   "metadata": {
    "collapsed": false
   },
   "outputs": [
    {
     "name": "stdout",
     "output_type": "stream",
     "text": [
      "Writing instance-5.lp\n"
     ]
    }
   ],
   "source": [
    "%%file instance-5.lp\n",
    "\n",
    "#const maxtime = 18.\n",
    "\n",
    "apicall(1, get_something).\n",
    "cmp_imm(2, eax, 0).\n",
    "jne(3, 5).\n",
    "eicar(4).\n",
    "apicall(5, get_something).\n",
    "cmp_imm(6, eax, 12).\n",
    "jne(7, 9).\n",
    "eicar(8).\n",
    "apicall(9, get_something).\n",
    "cmp_imm(10, eax, 24).\n",
    "jne(11, 13).\n",
    "eicar(12).\n",
    "end(13)."
   ]
  },
  {
   "cell_type": "code",
   "execution_count": 35,
   "metadata": {
    "collapsed": false
   },
   "outputs": [
    {
     "name": "stdout",
     "output_type": "stream",
     "text": [
      "clingo version 5.1.0\n",
      "Reading from regval32.lp ...\n",
      "UNKNOWN\n",
      "\n",
      "TIME LIMIT   : 1\n",
      "Models       : 0+\n",
      "Calls        : 1\n",
      "Time         : 120.001s (Solving: 0.00s 1st Model: 0.00s Unsat: 0.00s)\n",
      "CPU Time     : 118.609s\n"
     ]
    },
    {
     "name": "stderr",
     "output_type": "stream",
     "text": [
      "*** Info : (clingo): INTERRUPTED by signal!\n"
     ]
    }
   ],
   "source": [
    "!clingo regval32.lp instance-5.lp sample-formulation.lp --time-limit=120 | tail"
   ]
  },
  {
   "cell_type": "markdown",
   "metadata": {},
   "source": [
    "This would indicate time is exponential on choice rules. A more efficient formulation is needed."
   ]
  }
 ],
 "metadata": {
  "kernelspec": {
   "display_name": "Python 3",
   "language": "python",
   "name": "python3"
  },
  "language_info": {
   "codemirror_mode": {
    "name": "ipython",
    "version": 3
   },
   "file_extension": ".py",
   "mimetype": "text/x-python",
   "name": "python",
   "nbconvert_exporter": "python",
   "pygments_lexer": "ipython3",
   "version": "3.6.0"
  }
 },
 "nbformat": 4,
 "nbformat_minor": 2
}
