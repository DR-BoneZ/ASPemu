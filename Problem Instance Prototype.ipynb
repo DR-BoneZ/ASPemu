{
 "cells": [
  {
   "cell_type": "markdown",
   "metadata": {},
   "source": [
    "# ASP Emulator\n",
    "## Problem Instance"
   ]
  },
  {
   "cell_type": "code",
   "execution_count": 66,
   "metadata": {
    "collapsed": false
   },
   "outputs": [
    {
     "name": "stdout",
     "output_type": "stream",
     "text": [
      "Overwriting instance-2.lp\n"
     ]
    }
   ],
   "source": [
    "%%file instance-2.lp\n",
    "\n",
    "#const maxtime = 6.\n",
    "\n",
    "apicall(1, get_something).\n",
    "cmp_imm(2, eax, 0).\n",
    "jne(3, 5).\n",
    "eicar(4).\n",
    "end(5)."
   ]
  },
  {
   "cell_type": "code",
   "execution_count": 75,
   "metadata": {
    "collapsed": false
   },
   "outputs": [
    {
     "name": "stdout",
     "output_type": "stream",
     "text": [
      "Writing instance-3.lp\n"
     ]
    }
   ],
   "source": [
    "%%file instance-3.lp\n",
    "\n",
    "#const maxtime = 3.\n",
    "\n",
    "apicall(1, get_something).\n",
    "eicar(2).\n",
    "end(3)."
   ]
  },
  {
   "cell_type": "markdown",
   "metadata": {},
   "source": [
    "## Solution"
   ]
  },
  {
   "cell_type": "code",
   "execution_count": 67,
   "metadata": {
    "collapsed": false
   },
   "outputs": [
    {
     "name": "stdout",
     "output_type": "stream",
     "text": [
      "Overwriting solution-2.lp\n"
     ]
    }
   ],
   "source": [
    "%%file solution-2.lp\n",
    "\n",
    "apicall_res(1, 0).\n",
    "malware_sig_eicar(4)."
   ]
  },
  {
   "cell_type": "markdown",
   "metadata": {},
   "source": [
    "## Sample Formulation"
   ]
  },
  {
   "cell_type": "code",
   "execution_count": 72,
   "metadata": {
    "collapsed": false
   },
   "outputs": [
    {
     "name": "stdout",
     "output_type": "stream",
     "text": [
      "Overwriting sample-formulation.lp\n"
     ]
    }
   ],
   "source": [
    "%%file sample-formulation.lp\n",
    "\n",
    "#const intlen = 32.\n",
    "\n",
    "register(eax;ebx;ecx;edx;esi;edi;edp;esp;eip).\n",
    "flag(n;z;p).\n",
    "pos(0..intlen-1).\n",
    "bit(0;1).\n",
    "imm8(-128..127).\n",
    "time(T) :- T = 0..maxtime.\n",
    "regbit(0, Reg, Pos, 0) :- register(Reg), pos(Pos).\n",
    "flg(0, Flag, 0) :- flag(Flag).\n",
    "    \n",
    ":- regbit(T, Reg, Pos, B1), regbit(T, Reg, Pos, B2), B1 > B2, register(Reg), pos(Pos), bit(B1), bit(B2), time(T).\n",
    ":- flg(T, Flag, B1), flg(T, Flag, B2), B1 > B2, flag(Flag), bit(B1), bit(B2), time(T).\n",
    "    \n",
    "cmp(PC) :- cmp_imm(PC, Reg, Val), register(Reg), imm8(Val).\n",
    "%cmp(PC) :- cmp_reg(PC, Reg1, Reg2), register(Reg1), register(Reg2).\n",
    "    \n",
    "flg(T, Flag, Val) :-\n",
    "    time(T),\n",
    "    flag(Flag),\n",
    "    regval(T, eip, PC),\n",
    "    flg(T-1, Flag, Val),\n",
    "    not cmp(PC).\n",
    "\n",
    "flg(T, n, 0) :-\n",
    "    time(T),\n",
    "    flag(Flag),\n",
    "    regval(T, eip, PC),\n",
    "    cmp_imm(PC, Reg, Val),\n",
    "    register(Reg),\n",
    "    imm8(Val),\n",
    "    regval(T, Reg, RVal),\n",
    "    RVal >= Val.\n",
    "    \n",
    "flg(T, n, 1) :-\n",
    "    time(T),\n",
    "    flag(Flag),\n",
    "    regval(T, eip, PC),\n",
    "    cmp_imm(PC, Reg, Val),\n",
    "    register(Reg),\n",
    "    imm8(Val),\n",
    "    regval(T, Reg, RVal),\n",
    "    RVal < Val.\n",
    "    \n",
    "flg(T, z, 0) :-\n",
    "    time(T),\n",
    "    flag(Flag),\n",
    "    regval(T, eip, PC),\n",
    "    cmp_imm(PC, Reg, Val),\n",
    "    register(Reg),\n",
    "    imm8(Val),\n",
    "    regval(T, Reg, RVal),\n",
    "    RVal != Val.\n",
    "    \n",
    "flg(T, z, 1) :-\n",
    "    time(T),\n",
    "    flag(Flag),\n",
    "    regval(T, eip, PC),\n",
    "    cmp_imm(PC, Reg, Val),\n",
    "    register(Reg),\n",
    "    imm8(Val),\n",
    "    regval(T, Reg, RVal),\n",
    "    RVal = Val.\n",
    "    \n",
    "flg(T, p, 0) :-\n",
    "    time(T),\n",
    "    flag(Flag),\n",
    "    regval(T, eip, PC),\n",
    "    cmp_imm(PC, Reg, Val),\n",
    "    register(Reg),\n",
    "    imm8(Val),\n",
    "    regval(T, Reg, RVal),\n",
    "    RVal <= Val.\n",
    "    \n",
    "flg(T, p, 1) :-\n",
    "    time(T),\n",
    "    flag(Flag),\n",
    "    regval(T, eip, PC),\n",
    "    cmp_imm(PC, Reg, Val),\n",
    "    register(Reg),\n",
    "    imm8(Val),\n",
    "    regval(T, Reg, RVal),\n",
    "    RVal > Val.\n",
    "\n",
    "regbit(T, Reg, Pos, Val) :-\n",
    "    time(T),\n",
    "    register(Reg),\n",
    "    pos(Pos),\n",
    "    Reg != eip,\n",
    "    regval(T, eip, PC),\n",
    "    regbit(T-1, Reg, Pos, Val),\n",
    "    Reg != eax.\n",
    "    \n",
    "regbit(T, eax, Pos, Val) :-\n",
    "    time(T),\n",
    "    pos(Pos),\n",
    "    regval(T, eip, PC),\n",
    "    regbit(T-1, eax, Pos, Val),\n",
    "    not apicall(PC, _).\n",
    "    \n",
    "regbit(T, eip, Pos, B) :-\n",
    "    time(T),\n",
    "    pos(Pos),\n",
    "    bit(B),\n",
    "    Pos > 0,\n",
    "    regbit(T-1, eip, Pos, B),\n",
    "    regbit(T-1, eip, Pos-1, 0),\n",
    "    regval(T-1, eip, PC),\n",
    "    %not jmp(PC, _),\n",
    "    %not je(PC, _),\n",
    "    not jne(PC, _),\n",
    "    %not jg(PC, _),\n",
    "    %not jge(PC, _),\n",
    "    %not jl(PC, _),\n",
    "    %not jle(PC, _),\n",
    "    not end(PC).\n",
    "regbit(T, eip, Pos, B) :-\n",
    "    time(T),\n",
    "    pos(Pos),\n",
    "    bit(B),\n",
    "    Pos > 0,\n",
    "    regbit(T-1, eip, Pos, B),\n",
    "    regbit(T-1, eip, Pos-1, 1),\n",
    "    regbit(T, eip, Pos-1, 1),\n",
    "    regval(T-1, eip, PC),\n",
    "    %not jmp(PC, _),\n",
    "    %not je(PC, _),\n",
    "    not jne(PC, _),\n",
    "    %not jg(PC, _),\n",
    "    %not jge(PC, _),\n",
    "    %not jl(PC, _),\n",
    "    %not jle(PC, _),\n",
    "    not end(PC).\n",
    "regbit(T, eip, Pos, B) :-\n",
    "    time(T),\n",
    "    pos(Pos),\n",
    "    bit(B),\n",
    "    Pos > 0,\n",
    "    regbit(T-1, eip, Pos, B^1),\n",
    "    regbit(T-1, eip, Pos-1, 1),\n",
    "    regbit(T, eip, Pos-1, 0),\n",
    "    regval(T-1, eip, PC),\n",
    "    %not jmp(PC, _),\n",
    "    %not je(PC, _),\n",
    "    not jne(PC, _),\n",
    "    %not jg(PC, _),\n",
    "    %not jge(PC, _),\n",
    "    %not jl(PC, _),\n",
    "    %not jle(PC, _),\n",
    "    not end(PC).\n",
    "regbit(T, eip, 0, B) :-\n",
    "    time(T),\n",
    "    bit(B),\n",
    "    regbit(T-1, eip, Pos, B^1),\n",
    "    regval(T-1, eip, PC),\n",
    "    %not jmp(PC, _),\n",
    "    %not je(PC, _),\n",
    "    not jne(PC, _),\n",
    "    %not jg(PC, _),\n",
    "    %not jge(PC, _),\n",
    "    %not jl(PC, _),\n",
    "    %not jle(PC, _),\n",
    "    not end(PC).\n",
    "    \n",
    "regbit(T, eip, Pos, B) :-\n",
    "    time(T),\n",
    "    pos(Pos),\n",
    "    jne(PC2, PC),\n",
    "    regval(T-1, eip, PC2),\n",
    "    PC / (2 ** Pos) & 1 = B,\n",
    "    flg(T-1, z, 0).\n",
    "    \n",
    "regbit(T, eip, Pos, B) :-\n",
    "    time(T),\n",
    "    pos(Pos),\n",
    "    jne(PC-1, _),\n",
    "    regval(T-1, eip, PC-1),\n",
    "    PC / (2 ** Pos) & 1 = B,\n",
    "    flg(T-1, z, 1).\n",
    "\n",
    "1 { apicall_res(T, Pos, B):bit(B) } 1 :-\n",
    "    time(T),\n",
    "    pos(Pos),\n",
    "    regval(T, eip, PC),\n",
    "    apicall(PC, get_something).\n",
    "    \n",
    "regbit(T, eax, Pos, B) :-\n",
    "    time(T),\n",
    "    pos(Pos),\n",
    "    apicall_res(T, Pos, B),\n",
    "    regval(T, eip, PC),\n",
    "    apicall(PC, _).\n",
    "    \n",
    "malware_sig_eicar(T) :-\n",
    "    time(T),\n",
    "    regval(T, eip, PC),\n",
    "    eicar(PC).\n",
    "    \n",
    "malware_sig :- malware_sig_eicar(T), time(T).\n",
    "    \n",
    "%:- not malware_sig.\n",
    "    \n",
    "%#show malware_sig_eicar/1.\n",
    "%#show apicall_res/3.\n",
    "#show regval/3."
   ]
  },
  {
   "cell_type": "code",
   "execution_count": 73,
   "metadata": {
    "collapsed": false
   },
   "outputs": [
    {
     "name": "stdout",
     "output_type": "stream",
     "text": [
      "Overwriting regval32.lp\n"
     ]
    }
   ],
   "source": [
    "%%file regval32.lp\n",
    "\n",
    "regval(T, Reg, Val) :-\n",
    "    time(T),\n",
    "    register(Reg),\n",
    "    regbit(T, Reg, 0, B0),\n",
    "    regbit(T, Reg, 1, B1),\n",
    "    regbit(T, Reg, 2, B2),\n",
    "    regbit(T, Reg, 3, B3),\n",
    "    regbit(T, Reg, 4, B4),\n",
    "    regbit(T, Reg, 5, B5),\n",
    "    regbit(T, Reg, 6, B6),\n",
    "    regbit(T, Reg, 7, B7),\n",
    "    regbit(T, Reg, 8, B8),\n",
    "    regbit(T, Reg, 9, B9),\n",
    "    regbit(T, Reg, 10, B10),\n",
    "    regbit(T, Reg, 11, B11),\n",
    "    regbit(T, Reg, 12, B12),\n",
    "    regbit(T, Reg, 13, B13),\n",
    "    regbit(T, Reg, 14, B14),\n",
    "    regbit(T, Reg, 15, B15),\n",
    "    regbit(T, Reg, 16, B16),\n",
    "    regbit(T, Reg, 17, B17),\n",
    "    regbit(T, Reg, 18, B18),\n",
    "    regbit(T, Reg, 19, B19),\n",
    "    regbit(T, Reg, 20, B20),\n",
    "    regbit(T, Reg, 21, B21),\n",
    "    regbit(T, Reg, 22, B22),\n",
    "    regbit(T, Reg, 23, B23),\n",
    "    regbit(T, Reg, 24, B24),\n",
    "    regbit(T, Reg, 25, B25),\n",
    "    regbit(T, Reg, 26, B26),\n",
    "    regbit(T, Reg, 27, B27),\n",
    "    regbit(T, Reg, 28, B28),\n",
    "    regbit(T, Reg, 29, B29),\n",
    "    regbit(T, Reg, 30, B30),\n",
    "    regbit(T, Reg, 31, B31),\n",
    "    Val = (B31 * (2 ** 31)) +\n",
    "          (B30 * (2 ** 30)) +\n",
    "          (B29 * (2 ** 29)) +\n",
    "          (B28 * (2 ** 28)) +\n",
    "          (B27 * (2 ** 27)) +\n",
    "          (B26 * (2 ** 26)) +\n",
    "          (B25 * (2 ** 25)) +\n",
    "          (B24 * (2 ** 24)) +\n",
    "          (B23 * (2 ** 23)) +\n",
    "          (B22 * (2 ** 22)) +\n",
    "          (B21 * (2 ** 21)) +\n",
    "          (B20 * (2 ** 20)) +\n",
    "          (B19 * (2 ** 19)) +\n",
    "          (B18 * (2 ** 18)) +\n",
    "          (B17 * (2 ** 17)) +\n",
    "          (B16 * (2 ** 16)) +\n",
    "          (B15 * (2 ** 15)) +\n",
    "          (B14 * (2 ** 14)) +\n",
    "          (B13 * (2 ** 13)) +\n",
    "          (B12 * (2 ** 12)) +\n",
    "          (B11 * (2 ** 11)) +\n",
    "          (B10 * (2 ** 10)) +\n",
    "          (B9 * (2 ** 9)) +\n",
    "          (B8 * (2 ** 8)) +\n",
    "          (B7 * (2 ** 7)) +\n",
    "          (B6 * (2 ** 6)) +\n",
    "          (B5 * (2 ** 5)) +\n",
    "          (B4 * (2 ** 4)) +\n",
    "          (B3 * (2 ** 3)) +\n",
    "          (B2 * (2 ** 2)) +\n",
    "          (B1 * (2 ** 1)) + B0."
   ]
  },
  {
   "cell_type": "code",
   "execution_count": 74,
   "metadata": {
    "collapsed": false
   },
   "outputs": [
    {
     "name": "stdout",
     "output_type": "stream",
     "text": [
      "clingo version 5.1.0\n",
      "Reading from regval32.lp ...\n",
      "UNKNOWN\n",
      "\n",
      "TIME LIMIT   : 1\n",
      "Models       : 0+\n",
      "Calls        : 1\n",
      "Time         : 604.816s (Solving: 0.00s 1st Model: 0.00s Unsat: 0.00s)\n",
      "CPU Time     : 166.688s\n"
     ]
    },
    {
     "name": "stderr",
     "output_type": "stream",
     "text": [
      "*** Info : (clingo): INTERRUPTED by signal!\n"
     ]
    }
   ],
   "source": [
    "!clingo regval32.lp instance-2.lp sample-formulation.lp --time-limit=600 | tail"
   ]
  },
  {
   "cell_type": "code",
   "execution_count": null,
   "metadata": {
    "collapsed": true
   },
   "outputs": [],
   "source": []
  }
 ],
 "metadata": {
  "kernelspec": {
   "display_name": "Python 3",
   "language": "python",
   "name": "python3"
  },
  "language_info": {
   "codemirror_mode": {
    "name": "ipython",
    "version": 3
   },
   "file_extension": ".py",
   "mimetype": "text/x-python",
   "name": "python",
   "nbconvert_exporter": "python",
   "pygments_lexer": "ipython3",
   "version": "3.6.0"
  }
 },
 "nbformat": 4,
 "nbformat_minor": 2
}
